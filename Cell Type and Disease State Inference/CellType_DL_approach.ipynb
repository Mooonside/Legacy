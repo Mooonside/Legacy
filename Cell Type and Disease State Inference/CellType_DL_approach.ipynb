{
 "cells": [
  {
   "cell_type": "code",
   "execution_count": 1,
   "metadata": {
    "collapsed": true
   },
   "outputs": [],
   "source": [
    "import numpy as np\n",
    "import time \n",
    "import matplotlib.pyplot as plt\n",
    "from util import *\n",
    "\n",
    "%load_ext autoreload\n",
    "%autoreload 2"
   ]
  },
  {
   "cell_type": "code",
   "execution_count": 2,
   "metadata": {},
   "outputs": [
    {
     "name": "stdout",
     "output_type": "stream",
     "text": [
      "Loading Previous Data!\n",
      "883\n",
      "(1077, 883)\n"
     ]
    }
   ],
   "source": [
    "MicroArray,Labels = read_data(mode=\"CellType\",th=20)\n",
    "MicroArray = pca(MicroArray,0.95)\n",
    "print MicroArray.shape"
   ]
  },
  {
   "cell_type": "code",
   "execution_count": 3,
   "metadata": {},
   "outputs": [
    {
     "name": "stdout",
     "output_type": "stream",
     "text": [
      "19 883\n"
     ]
    }
   ],
   "source": [
    "class_num = len(np.unique(Labels))\n",
    "input_dim = MicroArray.shape[1]\n",
    "print class_num,input_dim"
   ]
  },
  {
   "cell_type": "code",
   "execution_count": 4,
   "metadata": {},
   "outputs": [
    {
     "name": "stdout",
     "output_type": "stream",
     "text": [
      "(869, 883)\n",
      "(208, 883)\n",
      "(869, 1)\n",
      "(208, 1)\n"
     ]
    }
   ],
   "source": [
    "## shuffle data and divide it into 5 parts\n",
    "from util import *\n",
    "\n",
    "MicroLabels = Labels\n",
    "MicroArray_train,MicroLabels_train,MicroArray_test,MicroLabels_test = division(MicroArray,MicroLabels)\n",
    "\n",
    "print MicroArray_train.shape\n",
    "print MicroArray_test.shape\n",
    "print MicroLabels_train.shape\n",
    "print MicroLabels_test.shape"
   ]
  },
  {
   "cell_type": "code",
   "execution_count": 5,
   "metadata": {},
   "outputs": [
    {
     "name": "stdout",
     "output_type": "stream",
     "text": [
      "4 235.0\n",
      "11 16.0\n",
      "45.7368421053\n"
     ]
    },
    {
     "data": {
      "image/png": "[encoded data removed]",
      "text/plain": [
       "<matplotlib.figure.Figure at 0x7f86ad09d110>"
      ]
     },
     "metadata": {},
     "output_type": "display_data"
    }
   ],
   "source": [
    "import matplotlib.pyplot as plt\n",
    "uniq = np.unique(MicroLabels_train)\n",
    "distribution = np.zeros(len(uniq))\n",
    "\n",
    "for i in range(len(MicroLabels_train)):\n",
    "    distribution[int(MicroLabels_train[i])] += 1\n",
    "    \n",
    "print np.argmax(distribution),np.max(distribution)\n",
    "print np.argmax(-distribution),np.min(distribution)\n",
    "print np.mean(distribution)\n",
    "#plt.ylim(0,100)\n",
    "plt.hlines(5,0,len(uniq))\n",
    "\n",
    "plt.plot(distribution,\"r\")\n",
    "plt.show()"
   ]
  },
  {
   "cell_type": "code",
   "execution_count": 6,
   "metadata": {},
   "outputs": [
    {
     "name": "stdout",
     "output_type": "stream",
     "text": [
      "4 58.0\n",
      "0 4.0\n",
      "10.9473684211\n"
     ]
    },
    {
     "data": {
      "image/png": "[encoded data removed]",
      "text/plain": [
       "<matplotlib.figure.Figure at 0x7f86acce36d0>"
      ]
     },
     "metadata": {},
     "output_type": "display_data"
    }
   ],
   "source": [
    "import matplotlib.pyplot as plt\n",
    "uniq = np.unique(MicroLabels_test)\n",
    "distribution = np.zeros(len(uniq))\n",
    "\n",
    "for i in range(len(MicroLabels_test)):\n",
    "    distribution[int(MicroLabels_test[i])] += 1\n",
    "    \n",
    "print np.argmax(distribution),np.max(distribution)\n",
    "print np.argmax(-distribution),np.min(distribution)\n",
    "print np.mean(distribution)\n",
    "#plt.ylim(0,100)\n",
    "plt.hlines(5,0,len(uniq))\n",
    "\n",
    "plt.plot(distribution,\"r\")\n",
    "plt.show()"
   ]
  },
  {
   "cell_type": "markdown",
   "metadata": {
    "collapsed": true
   },
   "source": [
    "# use tensorflow "
   ]
  },
  {
   "cell_type": "code",
   "execution_count": 7,
   "metadata": {
    "collapsed": true
   },
   "outputs": [],
   "source": [
    "import tensorflow as tf\n",
    "\n",
    "def save_model(name):\n",
    "    saver = tf.train.Saver()\n",
    "    path = \"./models/%s.ckpt\" % name\n",
    "    save_path = saver.save(sess,path)\n",
    "    print(\"Model saved in file: %s\" % save_path)\n",
    "    \n",
    "def load_model(name):\n",
    "    saver = tf.train.Saver()\n",
    "    path = \"./models/%s.ckpt\" % name\n",
    "    saver.restore(sess, path)\n",
    "    print(\"Model restored.\")"
   ]
  },
  {
   "cell_type": "code",
   "execution_count": 8,
   "metadata": {
    "collapsed": true
   },
   "outputs": [],
   "source": [
    "# creating nodes for the input images and target output classes.\n",
    "sess = tf.InteractiveSession()\n",
    "global_step_tensor = tf.Variable(0, trainable=False, name='global_step')\n",
    "x = tf.placeholder(tf.float32, shape=[None, input_dim])\n",
    "y_ = tf.placeholder(tf.float32, shape=[None, 1])"
   ]
  },
  {
   "cell_type": "code",
   "execution_count": 9,
   "metadata": {
    "collapsed": true
   },
   "outputs": [],
   "source": [
    "reg_penalty = 1e-2\n",
    "\n",
    "W1 = tf.Variable(\n",
    "    tf.random_normal(shape = [input_dim,2000],mean=0.01,stddev=0.1),name = \"W1\"\n",
    ")\n",
    "b1 = tf.Variable(\n",
    "    tf.random_normal(shape = [2000],mean=0.01,stddev=0.1),name = \"b1\"\n",
    ")\n",
    "n1 = reg_penalty * (tf.reduce_sum(tf.square(W1)) + tf.reduce_sum(tf.square(b1)))\n",
    "y1 = tf.matmul(x,W1) + b1\n",
    "#o1 = tf.sigmoid(y1)\n",
    "o1 = tf.nn.relu(y1)\n",
    "\n",
    "W2 = tf.Variable(\n",
    "    tf.random_normal(shape = [2000,1000],mean=0.01,stddev=0.1),name = \"W2\"\n",
    ")\n",
    "b2 = tf.Variable(\n",
    "    tf.random_normal(shape = [1000],mean=0.01,stddev=0.1),name = \"b2\"\n",
    ")\n",
    "n2 = reg_penalty * (tf.reduce_sum(tf.square(W2)) + tf.reduce_sum(tf.square(b2)))\n",
    "y2 = tf.matmul(o1,W2) + b2\n",
    "#o2 = tf.sigmoid(y2)\n",
    "o2 = tf.nn.relu(y2)\n",
    "\n",
    "W3 = tf.Variable(\n",
    "    tf.random_normal(shape = [1000,500],mean=0.01,stddev=0.1),name = \"W3\"\n",
    ")\n",
    "b3 = tf.Variable(\n",
    "    tf.random_normal(shape = [500],mean=0.01,stddev=0.1),name = \"b3\"\n",
    ")\n",
    "n3 = reg_penalty * (tf.reduce_sum(tf.square(W3)) + tf.reduce_sum(tf.square(b3)))\n",
    "y3 = tf.matmul(o2,W3) + b3\n",
    "#o3 = tf.sigmoid(y3)\n",
    "o3 = tf.nn.relu(y3)\n",
    "\n",
    "W4 = tf.Variable(\n",
    "    tf.random_normal(shape = [500,class_num],mean=0.01,stddev=0.1),name = \"W4\"\n",
    ")\n",
    "b4 = tf.Variable(\n",
    "    tf.random_normal(shape = [class_num],mean=0.01,stddev=0.1),name = \"b4\"\n",
    ")\n",
    "n4 = reg_penalty * (tf.reduce_sum(tf.square(W4)) + tf.reduce_sum(tf.square(b4)))\n",
    "y4 = tf.matmul(o3,W4) + b4\n",
    "\n",
    "onehot_labels = tf.one_hot(indices=tf.cast(y_, tf.int32), depth = class_num)\n",
    "\n",
    "cross_entropy = tf.reduce_mean(\n",
    "    tf.nn.softmax_cross_entropy_with_logits(labels=onehot_labels, logits=y4))\n",
    "\n",
    "#loss = cross_entropy\n",
    "loss = cross_entropy + n1 + n2 + n3 + n4"
   ]
  },
  {
   "cell_type": "code",
   "execution_count": 10,
   "metadata": {
    "collapsed": true
   },
   "outputs": [],
   "source": [
    "starter_learning_rate = 1e-3\n",
    "learning_rate = tf.train.exponential_decay(starter_learning_rate, global_step_tensor,\n",
    "                                       10000, 0.96, staircase=True)\n",
    "\n",
    "opt = tf.train.AdamOptimizer(\n",
    "    learning_rate = learning_rate,\n",
    "    beta1 = 0.9,\n",
    "    beta2 = 0.999,\n",
    "    epsilon = 1e-08,\n",
    "    use_locking = False,\n",
    "    name='Adam'\n",
    ")\n",
    "\n",
    "train_step = opt.minimize(\n",
    "    loss, global_step = global_step_tensor)"
   ]
  },
  {
   "cell_type": "code",
   "execution_count": 11,
   "metadata": {
    "collapsed": true,
    "scrolled": false
   },
   "outputs": [],
   "source": [
    "#load_model(\"pca+l2\")\n",
    "tf.global_variables_initializer().run()"
   ]
  },
  {
   "cell_type": "code",
   "execution_count": 14,
   "metadata": {
    "collapsed": true
   },
   "outputs": [],
   "source": [
    "def eval_accuracy(data,labels):\n",
    "    prediction = tf.identity(y4).eval(feed_dict={x: data})\n",
    "    prediction = np.argmax(prediction,axis=1).reshape([-1,1])\n",
    "    return np.mean(prediction == labels)\n",
    "\n",
    "def predict(data):\n",
    "    prediction = tf.identity(y4).eval(feed_dict={x: data})\n",
    "    prediction = np.argmax(prediction,axis=1)\n",
    "    return prediction\n",
    "    \n",
    "def eval_mse_loss(data,labels):\n",
    "    entropy = tf.identity(cross_entropy).eval(feed_dict={x: data, y_: labels})\n",
    "    return entropy\n",
    "\n",
    "def eval_loss(data,labels):\n",
    "    l = tf.identity(loss).eval(feed_dict={x: data, y_: labels})\n",
    "    return l\n",
    "\n",
    "def valid_batch(batch,th=0.2):\n",
    "    uni = np.unique(batch)\n",
    "    for i in uni:\n",
    "        if(np.sum(batch==i) > th*batch.shape[0]):\n",
    "            return False\n",
    "    return True"
   ]
  },
  {
   "cell_type": "code",
   "execution_count": 13,
   "metadata": {
    "collapsed": true
   },
   "outputs": [],
   "source": [
    "train_loss = []\n",
    "test_loss = []\n",
    "train_acc = []\n",
    "test_acc = []"
   ]
  },
  {
   "cell_type": "code",
   "execution_count": 23,
   "metadata": {
    "scrolled": true
   },
   "outputs": [
    {
     "name": "stdout",
     "output_type": "stream",
     "text": [
      "43\n",
      "Model saved in file: ./models/pca+l2+1e-2.ckpt\n",
      "epoch:0   train loss:25.246691 ,test loss :57.134338,train accuracy:0.950518,test accuracy:0.812500\n",
      "Model saved in file: ./models/pca+l2+1e-2.ckpt\n",
      "epoch:1   train loss:24.544777 ,test loss :50.143867,train accuracy:0.960875,test accuracy:0.855769\n",
      "Model saved in file: ./models/pca+l2+1e-2.ckpt\n",
      "epoch:2   train loss:23.545923 ,test loss :48.282825,train accuracy:0.956272,test accuracy:0.865385\n",
      "epoch:3   train loss:22.459137 ,test loss :45.329456,train accuracy:0.965478,test accuracy:0.855769\n",
      "epoch:4   train loss:21.858025 ,test loss :41.760948,train accuracy:0.952819,test accuracy:0.836538\n",
      "epoch:5   train loss:20.786409 ,test loss :45.786083,train accuracy:0.968930,test accuracy:0.826923\n",
      "epoch:6   train loss:19.990614 ,test loss :40.144550,train accuracy:0.966628,test accuracy:0.850962\n",
      "epoch:7   train loss:19.182890 ,test loss :38.217697,train accuracy:0.967779,test accuracy:0.846154\n",
      "epoch:8   train loss:18.405918 ,test loss :36.748367,train accuracy:0.966628,test accuracy:0.841346\n",
      "epoch:9   train loss:17.783236 ,test loss :35.191822,train accuracy:0.964327,test accuracy:0.865385\n",
      "epoch:10   train loss:17.195353 ,test loss :33.658703,train accuracy:0.970081,test accuracy:0.826923\n",
      "epoch:11   train loss:16.488079 ,test loss :32.330311,train accuracy:0.967779,test accuracy:0.846154\n",
      "epoch:12   train loss:15.909874 ,test loss :30.882448,train accuracy:0.970081,test accuracy:0.836538\n",
      "epoch:13   train loss:15.349493 ,test loss :29.601686,train accuracy:0.965478,test accuracy:0.846154\n",
      "epoch:14   train loss:14.746542 ,test loss :28.549725,train accuracy:0.966628,test accuracy:0.822115\n",
      "epoch:15   train loss:14.305807 ,test loss :27.059862,train accuracy:0.962025,test accuracy:0.822115\n",
      "epoch:16   train loss:13.735608 ,test loss :25.924345,train accuracy:0.966628,test accuracy:0.826923\n",
      "epoch:17   train loss:13.267718 ,test loss :25.035957,train accuracy:0.960875,test accuracy:0.836538\n",
      "epoch:18   train loss:12.851499 ,test loss :23.932142,train accuracy:0.966628,test accuracy:0.822115\n",
      "epoch:19   train loss:12.459185 ,test loss :22.753326,train accuracy:0.964327,test accuracy:0.836538\n",
      "epoch:20   train loss:11.887245 ,test loss :21.406321,train accuracy:0.963176,test accuracy:0.812500\n",
      "epoch:21   train loss:11.626636 ,test loss :20.561401,train accuracy:0.970081,test accuracy:0.822115\n",
      "epoch:22   train loss:11.134801 ,test loss :19.754526,train accuracy:0.967779,test accuracy:0.817308\n",
      "epoch:23   train loss:10.653412 ,test loss :18.723064,train accuracy:0.955121,test accuracy:0.860577\n",
      "epoch:24   train loss:10.241977 ,test loss :17.931431,train accuracy:0.970081,test accuracy:0.822115\n",
      "epoch:25   train loss:9.944635 ,test loss :17.037786,train accuracy:0.968930,test accuracy:0.812500\n",
      "epoch:26   train loss:9.623943 ,test loss :16.288725,train accuracy:0.965478,test accuracy:0.826923\n",
      "epoch:27   train loss:9.467918 ,test loss :15.465158,train accuracy:0.970081,test accuracy:0.812500\n",
      "epoch:28   train loss:8.865945 ,test loss :14.802738,train accuracy:0.959724,test accuracy:0.807692\n",
      "epoch:29   train loss:8.581244 ,test loss :13.904265,train accuracy:0.963176,test accuracy:0.826923\n",
      "epoch:30   train loss:8.291428 ,test loss :13.343649,train accuracy:0.964327,test accuracy:0.826923\n",
      "epoch:31   train loss:7.952003 ,test loss :12.407961,train accuracy:0.968930,test accuracy:0.822115\n",
      "epoch:32   train loss:7.632244 ,test loss :11.770006,train accuracy:0.970081,test accuracy:0.822115\n",
      "epoch:33   train loss:7.491214 ,test loss :11.187921,train accuracy:0.967779,test accuracy:0.822115\n",
      "epoch:34   train loss:7.058605 ,test loss :10.579669,train accuracy:0.965478,test accuracy:0.836538\n",
      "epoch:35   train loss:6.695647 ,test loss :10.168354,train accuracy:0.956272,test accuracy:0.822115\n",
      "epoch:36   train loss:6.464472 ,test loss :9.397091,train accuracy:0.963176,test accuracy:0.812500\n",
      "epoch:37   train loss:6.225730 ,test loss :9.153483,train accuracy:0.967779,test accuracy:0.788462\n",
      "epoch:38   train loss:6.107685 ,test loss :8.619615,train accuracy:0.962025,test accuracy:0.802885\n",
      "epoch:39   train loss:5.901890 ,test loss :10.777543,train accuracy:0.880322,test accuracy:0.750000\n",
      "epoch:40   train loss:6.678081 ,test loss :9.991975,train accuracy:0.942463,test accuracy:0.822115\n",
      "epoch:41   train loss:6.920251 ,test loss :8.824726,train accuracy:0.955121,test accuracy:0.836538\n",
      "epoch:42   train loss:6.169869 ,test loss :7.098502,train accuracy:0.963176,test accuracy:0.846154\n",
      "epoch:43   train loss:5.665567 ,test loss :6.368277,train accuracy:0.964327,test accuracy:0.846154\n",
      "epoch:44   train loss:5.261288 ,test loss :5.888220,train accuracy:0.970081,test accuracy:0.831731\n",
      "epoch:45   train loss:4.917481 ,test loss :5.658278,train accuracy:0.962025,test accuracy:0.836538\n",
      "epoch:46   train loss:4.780722 ,test loss :5.291588,train accuracy:0.967779,test accuracy:0.836538\n",
      "epoch:47   train loss:4.415181 ,test loss :4.930601,train accuracy:0.964327,test accuracy:0.850962\n",
      "epoch:48   train loss:4.258607 ,test loss :4.765708,train accuracy:0.967779,test accuracy:0.846154\n",
      "epoch:49   train loss:3.992803 ,test loss :4.479284,train accuracy:0.960875,test accuracy:0.855769\n",
      "epoch:50   train loss:3.829219 ,test loss :4.273192,train accuracy:0.968930,test accuracy:0.841346\n",
      "epoch:51   train loss:3.657284 ,test loss :4.113185,train accuracy:0.968930,test accuracy:0.841346\n",
      "epoch:52   train loss:3.404100 ,test loss :3.869864,train accuracy:0.970081,test accuracy:0.841346\n",
      "epoch:53   train loss:3.277114 ,test loss :3.703376,train accuracy:0.970081,test accuracy:0.831731\n",
      "epoch:54   train loss:3.078909 ,test loss :3.525810,train accuracy:0.968930,test accuracy:0.846154\n",
      "epoch:55   train loss:3.026327 ,test loss :3.454464,train accuracy:0.970081,test accuracy:0.836538\n",
      "epoch:56   train loss:2.925308 ,test loss :3.229314,train accuracy:0.965478,test accuracy:0.855769\n",
      "epoch:57   train loss:2.707076 ,test loss :3.163409,train accuracy:0.968930,test accuracy:0.846154\n",
      "epoch:58   train loss:2.601562 ,test loss :3.046701,train accuracy:0.967779,test accuracy:0.846154\n",
      "epoch:59   train loss:2.462451 ,test loss :2.902576,train accuracy:0.964327,test accuracy:0.846154\n",
      "epoch:60   train loss:2.364011 ,test loss :2.876625,train accuracy:0.963176,test accuracy:0.836538\n",
      "epoch:61   train loss:2.313390 ,test loss :2.689567,train accuracy:0.967779,test accuracy:0.855769\n",
      "epoch:62   train loss:2.183182 ,test loss :2.653389,train accuracy:0.964327,test accuracy:0.836538\n",
      "epoch:63   train loss:2.062730 ,test loss :2.451624,train accuracy:0.963176,test accuracy:0.865385\n",
      "epoch:64   train loss:1.995306 ,test loss :2.335060,train accuracy:0.966628,test accuracy:0.855769\n",
      "epoch:65   train loss:1.903215 ,test loss :2.239185,train accuracy:0.962025,test accuracy:0.860577\n",
      "epoch:66   train loss:1.793705 ,test loss :2.191704,train accuracy:0.964327,test accuracy:0.865385\n",
      "epoch:67   train loss:1.697717 ,test loss :2.272558,train accuracy:0.951669,test accuracy:0.846154\n",
      "epoch:68   train loss:1.771388 ,test loss :2.007356,train accuracy:0.966628,test accuracy:0.855769\n",
      "epoch:69   train loss:1.662214 ,test loss :1.897799,train accuracy:0.966628,test accuracy:0.855769\n",
      "epoch:70   train loss:1.485513 ,test loss :1.998772,train accuracy:0.952819,test accuracy:0.841346\n",
      "epoch:71   train loss:1.595609 ,test loss :1.801317,train accuracy:0.963176,test accuracy:0.846154\n",
      "epoch:72   train loss:1.508999 ,test loss :1.668261,train accuracy:0.965478,test accuracy:0.865385\n",
      "epoch:73   train loss:1.356568 ,test loss :1.688462,train accuracy:0.966628,test accuracy:0.831731\n",
      "epoch:74   train loss:1.430519 ,test loss :1.590649,train accuracy:0.967779,test accuracy:0.841346\n",
      "Model saved in file: ./models/pca+l2+1e-2.ckpt\n",
      "epoch:75   train loss:1.254557 ,test loss :1.554776,train accuracy:0.958573,test accuracy:0.884615\n",
      "epoch:76   train loss:1.271117 ,test loss :1.513478,train accuracy:0.966628,test accuracy:0.831731\n",
      "epoch:77   train loss:1.135242 ,test loss :1.474427,train accuracy:0.960875,test accuracy:0.855769\n",
      "epoch:78   train loss:1.382630 ,test loss :1.372566,train accuracy:0.962025,test accuracy:0.865385\n",
      "epoch:79   train loss:1.079302 ,test loss :1.367708,train accuracy:0.962025,test accuracy:0.855769\n",
      "epoch:80   train loss:1.139412 ,test loss :1.388338,train accuracy:0.960875,test accuracy:0.860577\n"
     ]
    },
    {
     "name": "stdout",
     "output_type": "stream",
     "text": [
      "epoch:81   train loss:1.061770 ,test loss :1.279409,train accuracy:0.963176,test accuracy:0.879808\n",
      "epoch:82   train loss:1.065765 ,test loss :1.265258,train accuracy:0.962025,test accuracy:0.865385\n",
      "epoch:83   train loss:0.971631 ,test loss :1.183535,train accuracy:0.963176,test accuracy:0.865385\n",
      "epoch:84   train loss:0.896223 ,test loss :1.149401,train accuracy:0.963176,test accuracy:0.884615\n",
      "epoch:85   train loss:1.053408 ,test loss :1.267814,train accuracy:0.960875,test accuracy:0.884615\n",
      "epoch:86   train loss:0.875117 ,test loss :1.233706,train accuracy:0.958573,test accuracy:0.855769\n",
      "epoch:87   train loss:0.918356 ,test loss :1.149559,train accuracy:0.963176,test accuracy:0.860577\n",
      "epoch:88   train loss:0.857667 ,test loss :1.077113,train accuracy:0.967779,test accuracy:0.870192\n",
      "epoch:89   train loss:0.818300 ,test loss :1.094884,train accuracy:0.964327,test accuracy:0.870192\n",
      "Model saved in file: ./models/pca+l2+1e-2.ckpt\n",
      "epoch:90   train loss:0.850564 ,test loss :0.998955,train accuracy:0.960875,test accuracy:0.894231\n",
      "epoch:91   train loss:0.996085 ,test loss :1.032847,train accuracy:0.967779,test accuracy:0.855769\n",
      "epoch:92   train loss:0.774350 ,test loss :1.000531,train accuracy:0.957422,test accuracy:0.889423\n",
      "Model saved in file: ./models/pca+l2+1e-2.ckpt\n",
      "epoch:93   train loss:0.731952 ,test loss :0.942863,train accuracy:0.959724,test accuracy:0.903846\n",
      "epoch:94   train loss:0.763677 ,test loss :0.944956,train accuracy:0.965478,test accuracy:0.889423\n",
      "epoch:95   train loss:0.707399 ,test loss :1.015102,train accuracy:0.963176,test accuracy:0.870192\n",
      "epoch:96   train loss:0.793347 ,test loss :0.971797,train accuracy:0.957422,test accuracy:0.879808\n",
      "epoch:97   train loss:0.656737 ,test loss :0.964249,train accuracy:0.956272,test accuracy:0.865385\n",
      "epoch:98   train loss:0.726455 ,test loss :0.951507,train accuracy:0.950518,test accuracy:0.894231\n",
      "epoch:99   train loss:0.804033 ,test loss :0.883582,train accuracy:0.965478,test accuracy:0.884615\n",
      "epoch:100   train loss:0.620501 ,test loss :0.920325,train accuracy:0.962025,test accuracy:0.889423\n",
      "Model saved in file: ./models/pca+l2+1e-2.ckpt\n",
      "epoch:101   train loss:0.665891 ,test loss :0.821375,train accuracy:0.962025,test accuracy:0.918269\n",
      "epoch:102   train loss:0.642039 ,test loss :0.949902,train accuracy:0.962025,test accuracy:0.846154\n",
      "epoch:103   train loss:0.621748 ,test loss :0.869458,train accuracy:0.965478,test accuracy:0.879808\n",
      "epoch:104   train loss:0.620254 ,test loss :0.872429,train accuracy:0.960875,test accuracy:0.894231\n",
      "epoch:105   train loss:0.662689 ,test loss :0.866826,train accuracy:0.962025,test accuracy:0.884615\n",
      "epoch:106   train loss:0.621803 ,test loss :0.860529,train accuracy:0.958573,test accuracy:0.884615\n",
      "epoch:107   train loss:0.678274 ,test loss :0.832814,train accuracy:0.968930,test accuracy:0.884615\n",
      "epoch:108   train loss:0.584262 ,test loss :0.868425,train accuracy:0.966628,test accuracy:0.855769\n",
      "epoch:109   train loss:0.537172 ,test loss :0.833210,train accuracy:0.963176,test accuracy:0.879808\n",
      "epoch:110   train loss:0.585232 ,test loss :0.842090,train accuracy:0.959724,test accuracy:0.884615\n",
      "epoch:111   train loss:0.562789 ,test loss :0.832956,train accuracy:0.966628,test accuracy:0.870192\n",
      "epoch:112   train loss:0.557007 ,test loss :0.809816,train accuracy:0.965478,test accuracy:0.860577\n",
      "epoch:113   train loss:0.565803 ,test loss :0.807733,train accuracy:0.968930,test accuracy:0.870192\n",
      "epoch:114   train loss:0.512117 ,test loss :0.780766,train accuracy:0.970081,test accuracy:0.875000\n",
      "epoch:115   train loss:0.527748 ,test loss :0.779694,train accuracy:0.966628,test accuracy:0.884615\n",
      "epoch:116   train loss:0.504411 ,test loss :0.794241,train accuracy:0.963176,test accuracy:0.855769\n",
      "epoch:117   train loss:0.607858 ,test loss :0.840598,train accuracy:0.960875,test accuracy:0.875000\n",
      "epoch:118   train loss:0.489784 ,test loss :0.863093,train accuracy:0.962025,test accuracy:0.860577\n",
      "epoch:119   train loss:0.499644 ,test loss :0.793598,train accuracy:0.966628,test accuracy:0.855769\n",
      "epoch:120   train loss:0.497795 ,test loss :0.769323,train accuracy:0.963176,test accuracy:0.884615\n",
      "epoch:121   train loss:0.517965 ,test loss :0.799326,train accuracy:0.959724,test accuracy:0.875000\n",
      "epoch:122   train loss:0.483105 ,test loss :0.846628,train accuracy:0.966628,test accuracy:0.879808\n",
      "epoch:123   train loss:0.460197 ,test loss :0.722893,train accuracy:0.968930,test accuracy:0.875000\n",
      "epoch:124   train loss:0.463582 ,test loss :0.768079,train accuracy:0.971231,test accuracy:0.865385\n",
      "epoch:125   train loss:0.467563 ,test loss :0.750373,train accuracy:0.967779,test accuracy:0.850962\n",
      "epoch:126   train loss:0.687242 ,test loss :0.690803,train accuracy:0.964327,test accuracy:0.894231\n",
      "epoch:127   train loss:0.458996 ,test loss :0.845446,train accuracy:0.963176,test accuracy:0.826923\n",
      "epoch:128   train loss:0.499474 ,test loss :0.981644,train accuracy:0.967779,test accuracy:0.855769\n",
      "epoch:129   train loss:0.531089 ,test loss :0.854390,train accuracy:0.964327,test accuracy:0.841346\n",
      "epoch:130   train loss:0.524883 ,test loss :0.769638,train accuracy:0.966628,test accuracy:0.841346\n",
      "epoch:131   train loss:0.495651 ,test loss :0.714776,train accuracy:0.964327,test accuracy:0.865385\n",
      "epoch:132   train loss:0.419386 ,test loss :0.709011,train accuracy:0.963176,test accuracy:0.870192\n",
      "epoch:133   train loss:0.498577 ,test loss :0.740991,train accuracy:0.945915,test accuracy:0.884615\n",
      "epoch:134   train loss:0.439117 ,test loss :0.717067,train accuracy:0.968930,test accuracy:0.841346\n",
      "epoch:135   train loss:0.442852 ,test loss :0.709013,train accuracy:0.968930,test accuracy:0.860577\n",
      "epoch:136   train loss:0.398860 ,test loss :0.716021,train accuracy:0.971231,test accuracy:0.855769\n",
      "epoch:137   train loss:0.419357 ,test loss :0.765460,train accuracy:0.962025,test accuracy:0.846154\n",
      "epoch:138   train loss:0.391285 ,test loss :0.732064,train accuracy:0.965478,test accuracy:0.875000\n",
      "epoch:139   train loss:0.415503 ,test loss :0.635098,train accuracy:0.967779,test accuracy:0.879808\n",
      "epoch:140   train loss:0.404236 ,test loss :0.703356,train accuracy:0.970081,test accuracy:0.831731\n",
      "Model saved in file: ./models/pca+l2+1e-2.ckpt\n",
      "epoch:141   train loss:0.386983 ,test loss :0.615241,train accuracy:0.963176,test accuracy:0.927885\n",
      "epoch:142   train loss:0.411071 ,test loss :0.602109,train accuracy:0.965478,test accuracy:0.908654\n",
      "epoch:143   train loss:0.393280 ,test loss :0.614692,train accuracy:0.960875,test accuracy:0.889423\n",
      "epoch:144   train loss:0.433014 ,test loss :0.635097,train accuracy:0.968930,test accuracy:0.865385\n",
      "epoch:145   train loss:0.381077 ,test loss :0.661824,train accuracy:0.967779,test accuracy:0.860577\n",
      "epoch:146   train loss:0.437182 ,test loss :0.792870,train accuracy:0.956272,test accuracy:0.822115\n",
      "epoch:147   train loss:0.465277 ,test loss :0.703707,train accuracy:0.966628,test accuracy:0.870192\n",
      "epoch:148   train loss:0.474297 ,test loss :0.743802,train accuracy:0.960875,test accuracy:0.870192\n",
      "epoch:149   train loss:0.415452 ,test loss :0.717975,train accuracy:0.963176,test accuracy:0.860577\n",
      "epoch:150   train loss:0.458948 ,test loss :0.679466,train accuracy:0.964327,test accuracy:0.855769\n",
      "epoch:151   train loss:0.374981 ,test loss :0.692888,train accuracy:0.964327,test accuracy:0.841346\n",
      "epoch:152   train loss:0.397672 ,test loss :0.618052,train accuracy:0.970081,test accuracy:0.870192\n",
      "epoch:153   train loss:0.354977 ,test loss :0.735476,train accuracy:0.957422,test accuracy:0.850962\n",
      "epoch:154   train loss:0.362335 ,test loss :0.573296,train accuracy:0.968930,test accuracy:0.884615\n",
      "epoch:155   train loss:0.324368 ,test loss :0.682243,train accuracy:0.965478,test accuracy:0.846154\n",
      "epoch:156   train loss:0.391687 ,test loss :0.585051,train accuracy:0.971231,test accuracy:0.879808\n",
      "epoch:157   train loss:0.312470 ,test loss :0.621122,train accuracy:0.967779,test accuracy:0.850962\n",
      "epoch:158   train loss:0.341162 ,test loss :0.630177,train accuracy:0.970081,test accuracy:0.831731\n",
      "epoch:159   train loss:0.428243 ,test loss :0.739198,train accuracy:0.948216,test accuracy:0.836538\n",
      "epoch:160   train loss:0.426970 ,test loss :0.704092,train accuracy:0.964327,test accuracy:0.860577\n",
      "epoch:161   train loss:0.390501 ,test loss :0.657382,train accuracy:0.966628,test accuracy:0.855769\n"
     ]
    },
    {
     "name": "stdout",
     "output_type": "stream",
     "text": [
      "epoch:162   train loss:0.451383 ,test loss :0.691209,train accuracy:0.967779,test accuracy:0.836538\n",
      "epoch:163   train loss:0.316477 ,test loss :0.583349,train accuracy:0.965478,test accuracy:0.879808\n",
      "epoch:164   train loss:0.365425 ,test loss :0.549188,train accuracy:0.966628,test accuracy:0.899038\n",
      "epoch:165   train loss:0.831653 ,test loss :0.758440,train accuracy:0.968930,test accuracy:0.846154\n",
      "epoch:166   train loss:0.369911 ,test loss :0.559867,train accuracy:0.965478,test accuracy:0.850962\n",
      "epoch:167   train loss:0.320314 ,test loss :0.631796,train accuracy:0.966628,test accuracy:0.836538\n",
      "epoch:168   train loss:0.398478 ,test loss :0.634650,train accuracy:0.966628,test accuracy:0.841346\n",
      "epoch:169   train loss:0.283340 ,test loss :0.640663,train accuracy:0.970081,test accuracy:0.836538\n",
      "epoch:170   train loss:0.443637 ,test loss :0.568101,train accuracy:0.964327,test accuracy:0.836538\n",
      "epoch:171   train loss:0.338846 ,test loss :0.601059,train accuracy:0.968930,test accuracy:0.860577\n",
      "epoch:172   train loss:0.288114 ,test loss :0.776108,train accuracy:0.952819,test accuracy:0.850962\n",
      "epoch:173   train loss:0.335436 ,test loss :0.569129,train accuracy:0.967779,test accuracy:0.865385\n",
      "epoch:174   train loss:0.297892 ,test loss :0.556351,train accuracy:0.970081,test accuracy:0.865385\n",
      "epoch:175   train loss:0.274607 ,test loss :0.591630,train accuracy:0.967779,test accuracy:0.841346\n",
      "epoch:176   train loss:0.265444 ,test loss :0.569452,train accuracy:0.965478,test accuracy:0.860577\n",
      "epoch:177   train loss:0.271837 ,test loss :0.610537,train accuracy:0.968930,test accuracy:0.865385\n",
      "epoch:178   train loss:0.309866 ,test loss :0.531018,train accuracy:0.968930,test accuracy:0.884615\n",
      "epoch:179   train loss:0.332145 ,test loss :0.507945,train accuracy:0.967779,test accuracy:0.899038\n",
      "epoch:180   train loss:0.330114 ,test loss :0.654976,train accuracy:0.964327,test accuracy:0.841346\n",
      "epoch:181   train loss:0.367427 ,test loss :0.547612,train accuracy:0.964327,test accuracy:0.879808\n",
      "epoch:182   train loss:0.371060 ,test loss :0.552568,train accuracy:0.970081,test accuracy:0.855769\n",
      "epoch:183   train loss:0.252241 ,test loss :0.510599,train accuracy:0.968930,test accuracy:0.894231\n",
      "epoch:184   train loss:0.276972 ,test loss :0.534036,train accuracy:0.970081,test accuracy:0.855769\n",
      "epoch:185   train loss:0.358910 ,test loss :0.487664,train accuracy:0.968930,test accuracy:0.889423\n",
      "epoch:186   train loss:0.304098 ,test loss :0.540299,train accuracy:0.971231,test accuracy:0.855769\n",
      "epoch:187   train loss:0.286390 ,test loss :0.547300,train accuracy:0.971231,test accuracy:0.846154\n",
      "epoch:188   train loss:0.307325 ,test loss :0.516886,train accuracy:0.968930,test accuracy:0.865385\n",
      "epoch:189   train loss:0.283327 ,test loss :0.558553,train accuracy:0.966628,test accuracy:0.841346\n",
      "epoch:190   train loss:0.235983 ,test loss :0.537091,train accuracy:0.953970,test accuracy:0.889423\n",
      "epoch:191   train loss:0.273169 ,test loss :0.476339,train accuracy:0.970081,test accuracy:0.884615\n",
      "epoch:192   train loss:0.372003 ,test loss :0.497262,train accuracy:0.970081,test accuracy:0.875000\n",
      "epoch:193   train loss:0.352754 ,test loss :0.621506,train accuracy:0.967779,test accuracy:0.831731\n",
      "epoch:194   train loss:0.437046 ,test loss :0.554871,train accuracy:0.970081,test accuracy:0.855769\n",
      "epoch:195   train loss:0.221746 ,test loss :0.520158,train accuracy:0.968930,test accuracy:0.879808\n",
      "epoch:196   train loss:0.249573 ,test loss :0.497606,train accuracy:0.970081,test accuracy:0.889423\n",
      "epoch:197   train loss:0.237417 ,test loss :0.564522,train accuracy:0.960875,test accuracy:0.836538\n",
      "epoch:198   train loss:0.293754 ,test loss :0.535258,train accuracy:0.959724,test accuracy:0.826923\n",
      "epoch:199   train loss:0.291513 ,test loss :0.527619,train accuracy:0.967779,test accuracy:0.903846\n",
      "epoch:200   train loss:0.294039 ,test loss :0.471461,train accuracy:0.967779,test accuracy:0.899038\n",
      "epoch:201   train loss:0.237335 ,test loss :0.553284,train accuracy:0.960875,test accuracy:0.870192\n",
      "epoch:202   train loss:0.291232 ,test loss :0.557560,train accuracy:0.970081,test accuracy:0.841346\n",
      "epoch:203   train loss:0.299527 ,test loss :0.571432,train accuracy:0.971231,test accuracy:0.831731\n",
      "epoch:204   train loss:0.275890 ,test loss :0.480721,train accuracy:0.967779,test accuracy:0.879808\n",
      "epoch:205   train loss:0.257086 ,test loss :0.545224,train accuracy:0.970081,test accuracy:0.860577\n",
      "epoch:206   train loss:0.372603 ,test loss :0.534508,train accuracy:0.971231,test accuracy:0.841346\n",
      "epoch:207   train loss:0.258140 ,test loss :0.518407,train accuracy:0.970081,test accuracy:0.846154\n",
      "epoch:208   train loss:0.210004 ,test loss :0.550490,train accuracy:0.967779,test accuracy:0.850962\n",
      "epoch:209   train loss:0.331550 ,test loss :0.591083,train accuracy:0.967779,test accuracy:0.836538\n",
      "epoch:210   train loss:0.234346 ,test loss :0.540457,train accuracy:0.971231,test accuracy:0.855769\n",
      "epoch:211   train loss:0.342788 ,test loss :0.543827,train accuracy:0.967779,test accuracy:0.850962\n",
      "epoch:212   train loss:0.208691 ,test loss :0.497482,train accuracy:0.968930,test accuracy:0.889423\n",
      "epoch:213   train loss:0.310496 ,test loss :0.522193,train accuracy:0.966628,test accuracy:0.865385\n",
      "epoch:214   train loss:0.203148 ,test loss :0.458592,train accuracy:0.968930,test accuracy:0.889423\n",
      "epoch:215   train loss:0.259279 ,test loss :0.471228,train accuracy:0.963176,test accuracy:0.855769\n",
      "epoch:216   train loss:0.301077 ,test loss :0.566440,train accuracy:0.965478,test accuracy:0.846154\n",
      "epoch:217   train loss:0.267692 ,test loss :0.474130,train accuracy:0.964327,test accuracy:0.884615\n",
      "epoch:218   train loss:0.201974 ,test loss :0.436574,train accuracy:0.966628,test accuracy:0.918269\n",
      "epoch:219   train loss:0.220871 ,test loss :0.540829,train accuracy:0.968930,test accuracy:0.860577\n",
      "epoch:220   train loss:0.281413 ,test loss :0.504526,train accuracy:0.970081,test accuracy:0.879808\n",
      "epoch:221   train loss:0.211596 ,test loss :0.521167,train accuracy:0.971231,test accuracy:0.836538\n",
      "epoch:222   train loss:0.238588 ,test loss :0.453665,train accuracy:0.971231,test accuracy:0.875000\n",
      "epoch:223   train loss:0.265087 ,test loss :0.508222,train accuracy:0.971231,test accuracy:0.836538\n",
      "epoch:224   train loss:0.296931 ,test loss :0.498909,train accuracy:0.968930,test accuracy:0.865385\n",
      "epoch:225   train loss:0.210649 ,test loss :0.489258,train accuracy:0.964327,test accuracy:0.870192\n",
      "epoch:226   train loss:0.198580 ,test loss :0.521040,train accuracy:0.965478,test accuracy:0.865385\n",
      "epoch:227   train loss:0.259532 ,test loss :0.561674,train accuracy:0.967779,test accuracy:0.826923\n",
      "epoch:228   train loss:0.425620 ,test loss :0.647913,train accuracy:0.968930,test accuracy:0.822115\n",
      "epoch:229   train loss:0.230568 ,test loss :0.515541,train accuracy:0.965478,test accuracy:0.865385\n",
      "epoch:230   train loss:0.275752 ,test loss :0.506613,train accuracy:0.970081,test accuracy:0.865385\n",
      "epoch:231   train loss:0.255925 ,test loss :0.500245,train accuracy:0.972382,test accuracy:0.865385\n",
      "epoch:232   train loss:0.286070 ,test loss :0.527753,train accuracy:0.970081,test accuracy:0.831731\n",
      "epoch:233   train loss:0.201760 ,test loss :0.504687,train accuracy:0.970081,test accuracy:0.850962\n",
      "epoch:234   train loss:0.217823 ,test loss :0.472532,train accuracy:0.965478,test accuracy:0.884615\n",
      "epoch:235   train loss:0.217297 ,test loss :0.501013,train accuracy:0.970081,test accuracy:0.865385\n",
      "epoch:236   train loss:0.268775 ,test loss :0.471466,train accuracy:0.965478,test accuracy:0.889423\n",
      "epoch:237   train loss:0.204116 ,test loss :0.411791,train accuracy:0.962025,test accuracy:0.884615\n",
      "epoch:238   train loss:0.333736 ,test loss :0.538039,train accuracy:0.962025,test accuracy:0.860577\n",
      "epoch:239   train loss:0.192160 ,test loss :0.470622,train accuracy:0.970081,test accuracy:0.870192\n",
      "epoch:240   train loss:0.259122 ,test loss :0.537530,train accuracy:0.970081,test accuracy:0.831731\n",
      "epoch:241   train loss:0.392269 ,test loss :0.557993,train accuracy:0.965478,test accuracy:0.879808\n",
      "epoch:242   train loss:0.252029 ,test loss :0.487598,train accuracy:0.968930,test accuracy:0.865385\n",
      "epoch:243   train loss:0.334099 ,test loss :0.498949,train accuracy:0.968930,test accuracy:0.850962\n"
     ]
    },
    {
     "name": "stdout",
     "output_type": "stream",
     "text": [
      "epoch:244   train loss:0.196907 ,test loss :0.516771,train accuracy:0.970081,test accuracy:0.846154\n",
      "epoch:245   train loss:0.258601 ,test loss :0.500265,train accuracy:0.967779,test accuracy:0.879808\n",
      "epoch:246   train loss:0.227813 ,test loss :0.521044,train accuracy:0.967779,test accuracy:0.850962\n",
      "epoch:247   train loss:0.299391 ,test loss :0.490687,train accuracy:0.972382,test accuracy:0.865385\n",
      "epoch:248   train loss:0.248816 ,test loss :0.496625,train accuracy:0.968930,test accuracy:0.865385\n",
      "epoch:249   train loss:0.353562 ,test loss :0.546403,train accuracy:0.968930,test accuracy:0.846154\n",
      "epoch:250   train loss:0.321232 ,test loss :0.633627,train accuracy:0.968930,test accuracy:0.841346\n",
      "epoch:251   train loss:0.251535 ,test loss :0.511400,train accuracy:0.964327,test accuracy:0.870192\n",
      "epoch:252   train loss:0.349110 ,test loss :0.559360,train accuracy:0.966628,test accuracy:0.850962\n",
      "epoch:253   train loss:0.282763 ,test loss :0.532411,train accuracy:0.967779,test accuracy:0.879808\n",
      "epoch:254   train loss:0.225262 ,test loss :0.510377,train accuracy:0.971231,test accuracy:0.855769\n",
      "epoch:255   train loss:0.195976 ,test loss :0.565494,train accuracy:0.968930,test accuracy:0.822115\n",
      "epoch:256   train loss:0.279287 ,test loss :0.473108,train accuracy:0.972382,test accuracy:0.875000\n",
      "epoch:257   train loss:0.191331 ,test loss :0.534771,train accuracy:0.964327,test accuracy:0.841346\n",
      "epoch:258   train loss:0.309260 ,test loss :0.476660,train accuracy:0.971231,test accuracy:0.879808\n",
      "epoch:259   train loss:0.292949 ,test loss :0.519033,train accuracy:0.970081,test accuracy:0.860577\n",
      "epoch:260   train loss:0.326362 ,test loss :0.503442,train accuracy:0.970081,test accuracy:0.850962\n",
      "epoch:261   train loss:0.214003 ,test loss :0.568369,train accuracy:0.959724,test accuracy:0.870192\n",
      "epoch:262   train loss:0.323618 ,test loss :0.564970,train accuracy:0.963176,test accuracy:0.855769\n",
      "epoch:263   train loss:0.287885 ,test loss :0.556978,train accuracy:0.971231,test accuracy:0.855769\n",
      "epoch:264   train loss:0.329296 ,test loss :0.486971,train accuracy:0.968930,test accuracy:0.850962\n",
      "epoch:265   train loss:0.206711 ,test loss :0.534160,train accuracy:0.960875,test accuracy:0.884615\n",
      "epoch:266   train loss:0.201140 ,test loss :0.510893,train accuracy:0.962025,test accuracy:0.879808\n",
      "epoch:267   train loss:0.278990 ,test loss :0.468897,train accuracy:0.970081,test accuracy:0.855769\n",
      "epoch:268   train loss:0.236125 ,test loss :0.527420,train accuracy:0.960875,test accuracy:0.879808\n",
      "epoch:269   train loss:0.236879 ,test loss :0.441088,train accuracy:0.968930,test accuracy:0.889423\n",
      "epoch:270   train loss:0.239535 ,test loss :0.513982,train accuracy:0.967779,test accuracy:0.903846\n",
      "epoch:271   train loss:0.205045 ,test loss :0.509070,train accuracy:0.968930,test accuracy:0.860577\n",
      "epoch:272   train loss:0.251466 ,test loss :0.459589,train accuracy:0.962025,test accuracy:0.889423\n",
      "epoch:273   train loss:0.291026 ,test loss :0.450345,train accuracy:0.970081,test accuracy:0.889423\n",
      "epoch:274   train loss:0.204809 ,test loss :0.500701,train accuracy:0.963176,test accuracy:0.879808\n",
      "epoch:275   train loss:0.264762 ,test loss :0.486332,train accuracy:0.971231,test accuracy:0.870192\n",
      "epoch:276   train loss:0.248285 ,test loss :0.472663,train accuracy:0.963176,test accuracy:0.903846\n",
      "epoch:277   train loss:0.200877 ,test loss :0.461199,train accuracy:0.968930,test accuracy:0.889423\n",
      "epoch:278   train loss:0.225596 ,test loss :0.500064,train accuracy:0.966628,test accuracy:0.860577\n",
      "epoch:279   train loss:0.207432 ,test loss :0.533872,train accuracy:0.966628,test accuracy:0.836538\n",
      "epoch:280   train loss:0.231284 ,test loss :0.444717,train accuracy:0.968930,test accuracy:0.889423\n",
      "epoch:281   train loss:0.246720 ,test loss :0.501299,train accuracy:0.970081,test accuracy:0.865385\n",
      "epoch:282   train loss:0.230149 ,test loss :0.487383,train accuracy:0.964327,test accuracy:0.894231\n",
      "epoch:283   train loss:0.257637 ,test loss :0.554397,train accuracy:0.967779,test accuracy:0.899038\n",
      "epoch:284   train loss:0.296816 ,test loss :0.542854,train accuracy:0.966628,test accuracy:0.846154\n",
      "epoch:285   train loss:0.306549 ,test loss :0.550221,train accuracy:0.968930,test accuracy:0.846154\n",
      "epoch:286   train loss:0.288953 ,test loss :0.459210,train accuracy:0.964327,test accuracy:0.875000\n",
      "epoch:287   train loss:0.191389 ,test loss :0.481932,train accuracy:0.967779,test accuracy:0.860577\n",
      "epoch:288   train loss:0.236478 ,test loss :0.494937,train accuracy:0.967779,test accuracy:0.850962\n",
      "epoch:289   train loss:0.252296 ,test loss :0.452555,train accuracy:0.967779,test accuracy:0.903846\n",
      "epoch:290   train loss:0.296201 ,test loss :0.440427,train accuracy:0.970081,test accuracy:0.870192\n",
      "epoch:291   train loss:0.329964 ,test loss :0.461086,train accuracy:0.968930,test accuracy:0.884615\n",
      "epoch:292   train loss:0.374232 ,test loss :0.516784,train accuracy:0.967779,test accuracy:0.855769\n",
      "epoch:293   train loss:0.238582 ,test loss :0.501666,train accuracy:0.966628,test accuracy:0.865385\n",
      "epoch:294   train loss:0.193017 ,test loss :0.475765,train accuracy:0.971231,test accuracy:0.865385\n",
      "epoch:295   train loss:0.179426 ,test loss :0.474807,train accuracy:0.970081,test accuracy:0.850962\n",
      "epoch:296   train loss:0.263333 ,test loss :0.451188,train accuracy:0.971231,test accuracy:0.879808\n",
      "epoch:297   train loss:0.212652 ,test loss :0.501855,train accuracy:0.967779,test accuracy:0.870192\n",
      "epoch:298   train loss:0.548366 ,test loss :0.484146,train accuracy:0.965478,test accuracy:0.889423\n",
      "epoch:299   train loss:0.273398 ,test loss :0.481076,train accuracy:0.968930,test accuracy:0.875000\n",
      "epoch:300   train loss:0.256878 ,test loss :0.543723,train accuracy:0.967779,test accuracy:0.846154\n",
      "epoch:301   train loss:0.210688 ,test loss :0.515657,train accuracy:0.965478,test accuracy:0.865385\n",
      "epoch:302   train loss:0.361930 ,test loss :0.518760,train accuracy:0.966628,test accuracy:0.860577\n",
      "epoch:303   train loss:0.195590 ,test loss :0.480530,train accuracy:0.965478,test accuracy:0.870192\n",
      "epoch:304   train loss:0.231848 ,test loss :0.492408,train accuracy:0.968930,test accuracy:0.875000\n",
      "epoch:305   train loss:0.255281 ,test loss :0.499654,train accuracy:0.965478,test accuracy:0.870192\n",
      "epoch:306   train loss:0.206405 ,test loss :0.410671,train accuracy:0.966628,test accuracy:0.927885\n",
      "epoch:307   train loss:0.186979 ,test loss :0.429505,train accuracy:0.967779,test accuracy:0.875000\n",
      "epoch:308   train loss:0.201052 ,test loss :0.510151,train accuracy:0.968930,test accuracy:0.836538\n",
      "epoch:309   train loss:0.224825 ,test loss :0.485007,train accuracy:0.971231,test accuracy:0.855769\n",
      "epoch:310   train loss:0.220148 ,test loss :0.477641,train accuracy:0.967779,test accuracy:0.870192\n",
      "epoch:311   train loss:0.260950 ,test loss :0.617180,train accuracy:0.966628,test accuracy:0.826923\n",
      "epoch:312   train loss:0.302337 ,test loss :0.491541,train accuracy:0.970081,test accuracy:0.875000\n",
      "epoch:313   train loss:0.277272 ,test loss :0.500982,train accuracy:0.967779,test accuracy:0.850962\n",
      "epoch:314   train loss:0.260747 ,test loss :0.449603,train accuracy:0.970081,test accuracy:0.870192\n",
      "epoch:315   train loss:0.238269 ,test loss :0.443251,train accuracy:0.972382,test accuracy:0.875000\n",
      "epoch:316   train loss:0.205024 ,test loss :0.460944,train accuracy:0.967779,test accuracy:0.879808\n",
      "epoch:317   train loss:0.225444 ,test loss :0.458380,train accuracy:0.970081,test accuracy:0.865385\n",
      "epoch:318   train loss:0.243294 ,test loss :0.480996,train accuracy:0.971231,test accuracy:0.875000\n",
      "epoch:319   train loss:0.265736 ,test loss :0.482260,train accuracy:0.971231,test accuracy:0.865385\n",
      "epoch:320   train loss:0.297675 ,test loss :0.450646,train accuracy:0.971231,test accuracy:0.870192\n",
      "epoch:321   train loss:0.268390 ,test loss :0.440153,train accuracy:0.967779,test accuracy:0.899038\n",
      "epoch:322   train loss:0.278298 ,test loss :0.601811,train accuracy:0.956272,test accuracy:0.855769\n",
      "epoch:323   train loss:0.460825 ,test loss :0.769010,train accuracy:0.958573,test accuracy:0.831731\n",
      "epoch:324   train loss:0.559370 ,test loss :1.000779,train accuracy:0.960875,test accuracy:0.850962\n",
      "epoch:325   train loss:0.403078 ,test loss :1.016609,train accuracy:0.952819,test accuracy:0.846154\n"
     ]
    },
    {
     "name": "stdout",
     "output_type": "stream",
     "text": [
      "epoch:326   train loss:0.322339 ,test loss :0.600359,train accuracy:0.964327,test accuracy:0.850962\n",
      "epoch:327   train loss:0.236678 ,test loss :0.538109,train accuracy:0.966628,test accuracy:0.860577\n",
      "epoch:328   train loss:0.214370 ,test loss :0.493195,train accuracy:0.967779,test accuracy:0.875000\n",
      "epoch:329   train loss:0.269374 ,test loss :0.500239,train accuracy:0.971231,test accuracy:0.850962\n",
      "epoch:330   train loss:0.195042 ,test loss :0.481044,train accuracy:0.970081,test accuracy:0.865385\n",
      "epoch:331   train loss:0.220809 ,test loss :0.461173,train accuracy:0.970081,test accuracy:0.865385\n",
      "epoch:332   train loss:0.207723 ,test loss :0.512693,train accuracy:0.968930,test accuracy:0.846154\n",
      "epoch:333   train loss:0.196776 ,test loss :0.462989,train accuracy:0.970081,test accuracy:0.879808\n",
      "epoch:334   train loss:0.206786 ,test loss :0.497225,train accuracy:0.970081,test accuracy:0.865385\n",
      "epoch:335   train loss:0.185106 ,test loss :0.458653,train accuracy:0.963176,test accuracy:0.870192\n",
      "epoch:336   train loss:0.216157 ,test loss :0.500467,train accuracy:0.971231,test accuracy:0.846154\n",
      "epoch:337   train loss:0.262224 ,test loss :0.468742,train accuracy:0.968930,test accuracy:0.875000\n",
      "epoch:338   train loss:0.218392 ,test loss :0.461771,train accuracy:0.968930,test accuracy:0.889423\n",
      "epoch:339   train loss:0.223494 ,test loss :0.513794,train accuracy:0.967779,test accuracy:0.855769\n",
      "epoch:340   train loss:0.270537 ,test loss :0.477117,train accuracy:0.966628,test accuracy:0.865385\n",
      "epoch:341   train loss:0.265331 ,test loss :0.472306,train accuracy:0.966628,test accuracy:0.884615\n",
      "epoch:342   train loss:0.239218 ,test loss :0.471336,train accuracy:0.970081,test accuracy:0.879808\n",
      "epoch:343   train loss:0.230106 ,test loss :0.490567,train accuracy:0.967779,test accuracy:0.884615\n",
      "epoch:344   train loss:0.227496 ,test loss :0.502220,train accuracy:0.971231,test accuracy:0.870192\n",
      "epoch:345   train loss:0.194061 ,test loss :0.436572,train accuracy:0.967779,test accuracy:0.865385\n",
      "epoch:346   train loss:0.200411 ,test loss :0.533843,train accuracy:0.965478,test accuracy:0.884615\n",
      "epoch:347   train loss:0.243158 ,test loss :0.479002,train accuracy:0.970081,test accuracy:0.855769\n",
      "epoch:348   train loss:0.289821 ,test loss :0.469974,train accuracy:0.971231,test accuracy:0.875000\n",
      "epoch:349   train loss:0.201538 ,test loss :0.518057,train accuracy:0.970081,test accuracy:0.850962\n",
      "epoch:350   train loss:0.298870 ,test loss :0.492398,train accuracy:0.968930,test accuracy:0.865385\n",
      "epoch:351   train loss:0.195784 ,test loss :0.482055,train accuracy:0.970081,test accuracy:0.879808\n",
      "epoch:352   train loss:0.217506 ,test loss :0.436446,train accuracy:0.967779,test accuracy:0.884615\n",
      "epoch:353   train loss:0.285513 ,test loss :0.506392,train accuracy:0.968930,test accuracy:0.865385\n",
      "epoch:354   train loss:0.277010 ,test loss :0.473421,train accuracy:0.966628,test accuracy:0.894231\n",
      "epoch:355   train loss:0.191298 ,test loss :0.474839,train accuracy:0.970081,test accuracy:0.870192\n",
      "epoch:356   train loss:0.275098 ,test loss :0.491682,train accuracy:0.965478,test accuracy:0.879808\n",
      "epoch:357   train loss:0.208066 ,test loss :0.517368,train accuracy:0.967779,test accuracy:0.855769\n",
      "epoch:358   train loss:0.206789 ,test loss :0.532865,train accuracy:0.971231,test accuracy:0.841346\n",
      "epoch:359   train loss:0.245067 ,test loss :0.595999,train accuracy:0.965478,test accuracy:0.875000\n",
      "epoch:360   train loss:0.414911 ,test loss :0.557054,train accuracy:0.968930,test accuracy:0.870192\n",
      "epoch:361   train loss:0.254258 ,test loss :0.540367,train accuracy:0.971231,test accuracy:0.836538\n",
      "epoch:362   train loss:0.221083 ,test loss :0.464655,train accuracy:0.970081,test accuracy:0.884615\n",
      "epoch:363   train loss:0.361804 ,test loss :0.553995,train accuracy:0.964327,test accuracy:0.865385\n",
      "epoch:364   train loss:0.412636 ,test loss :0.599865,train accuracy:0.965478,test accuracy:0.850962\n",
      "epoch:365   train loss:0.261837 ,test loss :0.462735,train accuracy:0.970081,test accuracy:0.879808\n",
      "epoch:366   train loss:0.228439 ,test loss :0.470736,train accuracy:0.970081,test accuracy:0.865385\n",
      "epoch:367   train loss:0.291975 ,test loss :0.537350,train accuracy:0.968930,test accuracy:0.855769\n",
      "epoch:368   train loss:0.207583 ,test loss :0.481743,train accuracy:0.971231,test accuracy:0.855769\n",
      "epoch:369   train loss:0.399322 ,test loss :0.453781,train accuracy:0.971231,test accuracy:0.889423\n",
      "epoch:370   train loss:0.179610 ,test loss :0.490395,train accuracy:0.966628,test accuracy:0.855769\n",
      "epoch:371   train loss:0.187318 ,test loss :0.472591,train accuracy:0.970081,test accuracy:0.875000\n",
      "epoch:372   train loss:0.202499 ,test loss :0.450791,train accuracy:0.968930,test accuracy:0.870192\n",
      "epoch:373   train loss:0.194609 ,test loss :0.485739,train accuracy:0.970081,test accuracy:0.865385\n",
      "epoch:374   train loss:0.267671 ,test loss :0.465103,train accuracy:0.972382,test accuracy:0.875000\n",
      "epoch:375   train loss:0.221529 ,test loss :0.491102,train accuracy:0.958573,test accuracy:0.894231\n",
      "epoch:376   train loss:0.243339 ,test loss :0.504134,train accuracy:0.965478,test accuracy:0.884615\n",
      "epoch:377   train loss:0.266987 ,test loss :0.488774,train accuracy:0.970081,test accuracy:0.879808\n",
      "epoch:378   train loss:0.308040 ,test loss :0.451612,train accuracy:0.970081,test accuracy:0.870192\n",
      "epoch:379   train loss:0.228029 ,test loss :0.475683,train accuracy:0.968930,test accuracy:0.860577\n",
      "epoch:380   train loss:0.216486 ,test loss :0.450035,train accuracy:0.971231,test accuracy:0.865385\n",
      "epoch:381   train loss:0.191236 ,test loss :0.463928,train accuracy:0.972382,test accuracy:0.870192\n",
      "epoch:382   train loss:0.256692 ,test loss :0.513187,train accuracy:0.967779,test accuracy:0.846154\n",
      "epoch:383   train loss:0.282325 ,test loss :0.422577,train accuracy:0.971231,test accuracy:0.889423\n",
      "epoch:384   train loss:0.192525 ,test loss :0.482972,train accuracy:0.968930,test accuracy:0.870192\n",
      "epoch:385   train loss:0.441789 ,test loss :0.531454,train accuracy:0.967779,test accuracy:0.870192\n",
      "epoch:386   train loss:0.272726 ,test loss :0.515947,train accuracy:0.965478,test accuracy:0.879808\n",
      "epoch:387   train loss:0.235742 ,test loss :0.544303,train accuracy:0.964327,test accuracy:0.875000\n",
      "epoch:388   train loss:0.188608 ,test loss :0.470938,train accuracy:0.967779,test accuracy:0.850962\n",
      "epoch:389   train loss:0.203350 ,test loss :0.460167,train accuracy:0.970081,test accuracy:0.865385\n",
      "epoch:390   train loss:0.190893 ,test loss :0.465446,train accuracy:0.966628,test accuracy:0.903846\n",
      "epoch:391   train loss:0.274080 ,test loss :0.508528,train accuracy:0.971231,test accuracy:0.855769\n",
      "epoch:392   train loss:0.185579 ,test loss :0.470397,train accuracy:0.968930,test accuracy:0.875000\n",
      "epoch:393   train loss:0.336570 ,test loss :0.449441,train accuracy:0.968930,test accuracy:0.884615\n",
      "epoch:394   train loss:0.215031 ,test loss :0.495151,train accuracy:0.968930,test accuracy:0.875000\n",
      "epoch:395   train loss:0.251008 ,test loss :0.496625,train accuracy:0.966628,test accuracy:0.875000\n",
      "epoch:396   train loss:0.284248 ,test loss :0.465553,train accuracy:0.968930,test accuracy:0.875000\n",
      "epoch:397   train loss:0.190518 ,test loss :0.458966,train accuracy:0.968930,test accuracy:0.870192\n",
      "epoch:398   train loss:0.179691 ,test loss :0.493960,train accuracy:0.967779,test accuracy:0.870192\n",
      "epoch:399   train loss:0.204342 ,test loss :0.455047,train accuracy:0.968930,test accuracy:0.884615\n",
      "epoch:400   train loss:0.256716 ,test loss :0.476869,train accuracy:0.970081,test accuracy:0.879808\n",
      "epoch:401   train loss:0.232713 ,test loss :0.502468,train accuracy:0.970081,test accuracy:0.846154\n",
      "epoch:402   train loss:0.321781 ,test loss :0.471285,train accuracy:0.970081,test accuracy:0.865385\n",
      "epoch:403   train loss:0.215395 ,test loss :0.736251,train accuracy:0.936709,test accuracy:0.860577\n",
      "epoch:404   train loss:0.304480 ,test loss :0.490789,train accuracy:0.965478,test accuracy:0.875000\n",
      "epoch:405   train loss:0.201905 ,test loss :0.505377,train accuracy:0.970081,test accuracy:0.860577\n",
      "epoch:406   train loss:0.355767 ,test loss :0.513276,train accuracy:0.971231,test accuracy:0.831731\n",
      "epoch:407   train loss:0.218811 ,test loss :0.486693,train accuracy:0.971231,test accuracy:0.870192\n"
     ]
    },
    {
     "name": "stdout",
     "output_type": "stream",
     "text": [
      "epoch:408   train loss:0.306819 ,test loss :0.514918,train accuracy:0.971231,test accuracy:0.836538\n",
      "epoch:409   train loss:0.215248 ,test loss :0.491226,train accuracy:0.963176,test accuracy:0.875000\n",
      "epoch:410   train loss:0.194199 ,test loss :0.476825,train accuracy:0.968930,test accuracy:0.879808\n",
      "epoch:411   train loss:0.205524 ,test loss :0.519262,train accuracy:0.966628,test accuracy:0.879808\n",
      "epoch:412   train loss:0.242448 ,test loss :0.510495,train accuracy:0.965478,test accuracy:0.889423\n",
      "epoch:413   train loss:0.304506 ,test loss :0.463422,train accuracy:0.971231,test accuracy:0.865385\n",
      "epoch:414   train loss:0.188041 ,test loss :0.560787,train accuracy:0.970081,test accuracy:0.870192\n",
      "epoch:415   train loss:0.191925 ,test loss :0.462835,train accuracy:0.968930,test accuracy:0.860577\n",
      "epoch:416   train loss:0.273348 ,test loss :0.487352,train accuracy:0.971231,test accuracy:0.870192\n",
      "epoch:417   train loss:0.217190 ,test loss :0.476615,train accuracy:0.968930,test accuracy:0.846154\n",
      "epoch:418   train loss:0.186498 ,test loss :0.451447,train accuracy:0.967779,test accuracy:0.865385\n",
      "epoch:419   train loss:0.249221 ,test loss :0.466908,train accuracy:0.971231,test accuracy:0.860577\n",
      "epoch:420   train loss:0.202378 ,test loss :0.509609,train accuracy:0.966628,test accuracy:0.889423\n",
      "epoch:421   train loss:0.211738 ,test loss :0.463238,train accuracy:0.970081,test accuracy:0.875000\n",
      "epoch:422   train loss:0.286096 ,test loss :0.500444,train accuracy:0.968930,test accuracy:0.850962\n",
      "epoch:423   train loss:0.204450 ,test loss :0.420887,train accuracy:0.966628,test accuracy:0.889423\n",
      "epoch:424   train loss:0.233148 ,test loss :0.467954,train accuracy:0.963176,test accuracy:0.865385\n",
      "epoch:425   train loss:0.218307 ,test loss :0.425714,train accuracy:0.960875,test accuracy:0.889423\n",
      "epoch:426   train loss:0.301403 ,test loss :0.567909,train accuracy:0.967779,test accuracy:0.875000\n",
      "epoch:427   train loss:0.273143 ,test loss :0.459705,train accuracy:0.972382,test accuracy:0.870192\n",
      "epoch:428   train loss:0.227056 ,test loss :0.445902,train accuracy:0.970081,test accuracy:0.865385\n",
      "epoch:429   train loss:0.193791 ,test loss :0.449346,train accuracy:0.968930,test accuracy:0.855769\n",
      "epoch:430   train loss:0.257168 ,test loss :0.447045,train accuracy:0.963176,test accuracy:0.908654\n",
      "epoch:431   train loss:0.248530 ,test loss :0.462111,train accuracy:0.968930,test accuracy:0.865385\n",
      "epoch:432   train loss:0.234955 ,test loss :0.533823,train accuracy:0.967779,test accuracy:0.855769\n",
      "epoch:433   train loss:0.316875 ,test loss :0.517330,train accuracy:0.971231,test accuracy:0.846154\n",
      "epoch:434   train loss:0.259915 ,test loss :0.515764,train accuracy:0.972382,test accuracy:0.860577\n",
      "epoch:435   train loss:0.233835 ,test loss :0.472321,train accuracy:0.972382,test accuracy:0.879808\n"
     ]
    },
    {
     "ename": "KeyboardInterrupt",
     "evalue": "",
     "output_type": "error",
     "traceback": [
      "\u001b[0;31m---------------------------------------------------------------------------\u001b[0m",
      "\u001b[0;31mKeyboardInterrupt\u001b[0m                         Traceback (most recent call last)",
      "\u001b[0;32m<ipython-input-23-d6f02c997d6f>\u001b[0m in \u001b[0;36m<module>\u001b[0;34m()\u001b[0m\n\u001b[1;32m     11\u001b[0m   \u001b[0mfeed_dict\u001b[0m \u001b[0;34m=\u001b[0m \u001b[0;34m{\u001b[0m\u001b[0mx\u001b[0m\u001b[0;34m:\u001b[0m \u001b[0mMicroArray_train\u001b[0m\u001b[0;34m[\u001b[0m\u001b[0mrandom\u001b[0m\u001b[0;34m,\u001b[0m\u001b[0;34m:\u001b[0m\u001b[0;34m]\u001b[0m\u001b[0;34m,\u001b[0m \u001b[0my_\u001b[0m\u001b[0;34m:\u001b[0m \u001b[0mMicroLabels_train\u001b[0m\u001b[0;34m[\u001b[0m\u001b[0mrandom\u001b[0m\u001b[0;34m]\u001b[0m\u001b[0;34m}\u001b[0m\u001b[0;34m\u001b[0m\u001b[0m\n\u001b[1;32m     12\u001b[0m   \u001b[0m_\u001b[0m\u001b[0;34m,\u001b[0m\u001b[0ma\u001b[0m \u001b[0;34m=\u001b[0m \u001b[0msess\u001b[0m\u001b[0;34m.\u001b[0m\u001b[0mrun\u001b[0m\u001b[0;34m(\u001b[0m\u001b[0;34m[\u001b[0m\u001b[0mtrain_step\u001b[0m\u001b[0;34m,\u001b[0m\u001b[0mloss\u001b[0m\u001b[0;34m]\u001b[0m\u001b[0;34m,\u001b[0m\u001b[0mfeed_dict\u001b[0m\u001b[0;34m=\u001b[0m\u001b[0mfeed_dict\u001b[0m\u001b[0;34m)\u001b[0m\u001b[0;34m\u001b[0m\u001b[0m\n\u001b[0;32m---> 13\u001b[0;31m   \u001b[0mb\u001b[0m \u001b[0;34m=\u001b[0m \u001b[0meval_loss\u001b[0m\u001b[0;34m(\u001b[0m\u001b[0mMicroArray_test\u001b[0m\u001b[0;34m,\u001b[0m\u001b[0mMicroLabels_test\u001b[0m\u001b[0;34m)\u001b[0m\u001b[0;34m\u001b[0m\u001b[0m\n\u001b[0m\u001b[1;32m     14\u001b[0m   \u001b[0;32mif\u001b[0m\u001b[0;34m(\u001b[0m\u001b[0mstep\u001b[0m \u001b[0;34m%\u001b[0m \u001b[0mepoch\u001b[0m \u001b[0;34m==\u001b[0m \u001b[0;36m0\u001b[0m\u001b[0;34m)\u001b[0m\u001b[0;34m:\u001b[0m\u001b[0;34m\u001b[0m\u001b[0m\n\u001b[1;32m     15\u001b[0m       \u001b[0mtrain_loss\u001b[0m\u001b[0;34m.\u001b[0m\u001b[0mappend\u001b[0m\u001b[0;34m(\u001b[0m\u001b[0ma\u001b[0m\u001b[0;34m)\u001b[0m\u001b[0;34m\u001b[0m\u001b[0m\n",
      "\u001b[0;32m<ipython-input-14-501ef97a93e0>\u001b[0m in \u001b[0;36meval_loss\u001b[0;34m(data, labels)\u001b[0m\n\u001b[1;32m     14\u001b[0m \u001b[0;34m\u001b[0m\u001b[0m\n\u001b[1;32m     15\u001b[0m \u001b[0;32mdef\u001b[0m \u001b[0meval_loss\u001b[0m\u001b[0;34m(\u001b[0m\u001b[0mdata\u001b[0m\u001b[0;34m,\u001b[0m\u001b[0mlabels\u001b[0m\u001b[0;34m)\u001b[0m\u001b[0;34m:\u001b[0m\u001b[0;34m\u001b[0m\u001b[0m\n\u001b[0;32m---> 16\u001b[0;31m     \u001b[0ml\u001b[0m \u001b[0;34m=\u001b[0m \u001b[0mtf\u001b[0m\u001b[0;34m.\u001b[0m\u001b[0midentity\u001b[0m\u001b[0;34m(\u001b[0m\u001b[0mloss\u001b[0m\u001b[0;34m)\u001b[0m\u001b[0;34m.\u001b[0m\u001b[0meval\u001b[0m\u001b[0;34m(\u001b[0m\u001b[0mfeed_dict\u001b[0m\u001b[0;34m=\u001b[0m\u001b[0;34m{\u001b[0m\u001b[0mx\u001b[0m\u001b[0;34m:\u001b[0m \u001b[0mdata\u001b[0m\u001b[0;34m,\u001b[0m \u001b[0my_\u001b[0m\u001b[0;34m:\u001b[0m \u001b[0mlabels\u001b[0m\u001b[0;34m}\u001b[0m\u001b[0;34m)\u001b[0m\u001b[0;34m\u001b[0m\u001b[0m\n\u001b[0m\u001b[1;32m     17\u001b[0m     \u001b[0;32mreturn\u001b[0m \u001b[0ml\u001b[0m\u001b[0;34m\u001b[0m\u001b[0m\n\u001b[1;32m     18\u001b[0m \u001b[0;34m\u001b[0m\u001b[0m\n",
      "\u001b[0;32m/usr/local/lib/python2.7/dist-packages/tensorflow/python/framework/ops.pyc\u001b[0m in \u001b[0;36meval\u001b[0;34m(self, feed_dict, session)\u001b[0m\n\u001b[1;32m    567\u001b[0m \u001b[0;34m\u001b[0m\u001b[0m\n\u001b[1;32m    568\u001b[0m     \"\"\"\n\u001b[0;32m--> 569\u001b[0;31m     \u001b[0;32mreturn\u001b[0m \u001b[0m_eval_using_default_session\u001b[0m\u001b[0;34m(\u001b[0m\u001b[0mself\u001b[0m\u001b[0;34m,\u001b[0m \u001b[0mfeed_dict\u001b[0m\u001b[0;34m,\u001b[0m \u001b[0mself\u001b[0m\u001b[0;34m.\u001b[0m\u001b[0mgraph\u001b[0m\u001b[0;34m,\u001b[0m \u001b[0msession\u001b[0m\u001b[0;34m)\u001b[0m\u001b[0;34m\u001b[0m\u001b[0m\n\u001b[0m\u001b[1;32m    570\u001b[0m \u001b[0;34m\u001b[0m\u001b[0m\n\u001b[1;32m    571\u001b[0m \u001b[0;34m\u001b[0m\u001b[0m\n",
      "\u001b[0;32m/usr/local/lib/python2.7/dist-packages/tensorflow/python/framework/ops.pyc\u001b[0m in \u001b[0;36m_eval_using_default_session\u001b[0;34m(tensors, feed_dict, graph, session)\u001b[0m\n\u001b[1;32m   3739\u001b[0m                        \u001b[0;34m\"the tensor's graph is different from the session's \"\u001b[0m\u001b[0;34m\u001b[0m\u001b[0m\n\u001b[1;32m   3740\u001b[0m                        \"graph.\")\n\u001b[0;32m-> 3741\u001b[0;31m   \u001b[0;32mreturn\u001b[0m \u001b[0msession\u001b[0m\u001b[0;34m.\u001b[0m\u001b[0mrun\u001b[0m\u001b[0;34m(\u001b[0m\u001b[0mtensors\u001b[0m\u001b[0;34m,\u001b[0m \u001b[0mfeed_dict\u001b[0m\u001b[0;34m)\u001b[0m\u001b[0;34m\u001b[0m\u001b[0m\n\u001b[0m\u001b[1;32m   3742\u001b[0m \u001b[0;34m\u001b[0m\u001b[0m\n\u001b[1;32m   3743\u001b[0m \u001b[0;34m\u001b[0m\u001b[0m\n",
      "\u001b[0;32m/usr/local/lib/python2.7/dist-packages/tensorflow/python/client/session.pyc\u001b[0m in \u001b[0;36mrun\u001b[0;34m(self, fetches, feed_dict, options, run_metadata)\u001b[0m\n\u001b[1;32m    776\u001b[0m     \u001b[0;32mtry\u001b[0m\u001b[0;34m:\u001b[0m\u001b[0;34m\u001b[0m\u001b[0m\n\u001b[1;32m    777\u001b[0m       result = self._run(None, fetches, feed_dict, options_ptr,\n\u001b[0;32m--> 778\u001b[0;31m                          run_metadata_ptr)\n\u001b[0m\u001b[1;32m    779\u001b[0m       \u001b[0;32mif\u001b[0m \u001b[0mrun_metadata\u001b[0m\u001b[0;34m:\u001b[0m\u001b[0;34m\u001b[0m\u001b[0m\n\u001b[1;32m    780\u001b[0m         \u001b[0mproto_data\u001b[0m \u001b[0;34m=\u001b[0m \u001b[0mtf_session\u001b[0m\u001b[0;34m.\u001b[0m\u001b[0mTF_GetBuffer\u001b[0m\u001b[0;34m(\u001b[0m\u001b[0mrun_metadata_ptr\u001b[0m\u001b[0;34m)\u001b[0m\u001b[0;34m\u001b[0m\u001b[0m\n",
      "\u001b[0;32m/usr/local/lib/python2.7/dist-packages/tensorflow/python/client/session.pyc\u001b[0m in \u001b[0;36m_run\u001b[0;34m(self, handle, fetches, feed_dict, options, run_metadata)\u001b[0m\n\u001b[1;32m    980\u001b[0m     \u001b[0;32mif\u001b[0m \u001b[0mfinal_fetches\u001b[0m \u001b[0;32mor\u001b[0m \u001b[0mfinal_targets\u001b[0m\u001b[0;34m:\u001b[0m\u001b[0;34m\u001b[0m\u001b[0m\n\u001b[1;32m    981\u001b[0m       results = self._do_run(handle, final_targets, final_fetches,\n\u001b[0;32m--> 982\u001b[0;31m                              feed_dict_string, options, run_metadata)\n\u001b[0m\u001b[1;32m    983\u001b[0m     \u001b[0;32melse\u001b[0m\u001b[0;34m:\u001b[0m\u001b[0;34m\u001b[0m\u001b[0m\n\u001b[1;32m    984\u001b[0m       \u001b[0mresults\u001b[0m \u001b[0;34m=\u001b[0m \u001b[0;34m[\u001b[0m\u001b[0;34m]\u001b[0m\u001b[0;34m\u001b[0m\u001b[0m\n",
      "\u001b[0;32m/usr/local/lib/python2.7/dist-packages/tensorflow/python/client/session.pyc\u001b[0m in \u001b[0;36m_do_run\u001b[0;34m(self, handle, target_list, fetch_list, feed_dict, options, run_metadata)\u001b[0m\n\u001b[1;32m   1030\u001b[0m     \u001b[0;32mif\u001b[0m \u001b[0mhandle\u001b[0m \u001b[0;32mis\u001b[0m \u001b[0mNone\u001b[0m\u001b[0;34m:\u001b[0m\u001b[0;34m\u001b[0m\u001b[0m\n\u001b[1;32m   1031\u001b[0m       return self._do_call(_run_fn, self._session, feed_dict, fetch_list,\n\u001b[0;32m-> 1032\u001b[0;31m                            target_list, options, run_metadata)\n\u001b[0m\u001b[1;32m   1033\u001b[0m     \u001b[0;32melse\u001b[0m\u001b[0;34m:\u001b[0m\u001b[0;34m\u001b[0m\u001b[0m\n\u001b[1;32m   1034\u001b[0m       return self._do_call(_prun_fn, self._session, handle, feed_dict,\n",
      "\u001b[0;32m/usr/local/lib/python2.7/dist-packages/tensorflow/python/client/session.pyc\u001b[0m in \u001b[0;36m_do_call\u001b[0;34m(self, fn, *args)\u001b[0m\n\u001b[1;32m   1037\u001b[0m   \u001b[0;32mdef\u001b[0m \u001b[0m_do_call\u001b[0m\u001b[0;34m(\u001b[0m\u001b[0mself\u001b[0m\u001b[0;34m,\u001b[0m \u001b[0mfn\u001b[0m\u001b[0;34m,\u001b[0m \u001b[0;34m*\u001b[0m\u001b[0margs\u001b[0m\u001b[0;34m)\u001b[0m\u001b[0;34m:\u001b[0m\u001b[0;34m\u001b[0m\u001b[0m\n\u001b[1;32m   1038\u001b[0m     \u001b[0;32mtry\u001b[0m\u001b[0;34m:\u001b[0m\u001b[0;34m\u001b[0m\u001b[0m\n\u001b[0;32m-> 1039\u001b[0;31m       \u001b[0;32mreturn\u001b[0m \u001b[0mfn\u001b[0m\u001b[0;34m(\u001b[0m\u001b[0;34m*\u001b[0m\u001b[0margs\u001b[0m\u001b[0;34m)\u001b[0m\u001b[0;34m\u001b[0m\u001b[0m\n\u001b[0m\u001b[1;32m   1040\u001b[0m     \u001b[0;32mexcept\u001b[0m \u001b[0merrors\u001b[0m\u001b[0;34m.\u001b[0m\u001b[0mOpError\u001b[0m \u001b[0;32mas\u001b[0m \u001b[0me\u001b[0m\u001b[0;34m:\u001b[0m\u001b[0;34m\u001b[0m\u001b[0m\n\u001b[1;32m   1041\u001b[0m       \u001b[0mmessage\u001b[0m \u001b[0;34m=\u001b[0m \u001b[0mcompat\u001b[0m\u001b[0;34m.\u001b[0m\u001b[0mas_text\u001b[0m\u001b[0;34m(\u001b[0m\u001b[0me\u001b[0m\u001b[0;34m.\u001b[0m\u001b[0mmessage\u001b[0m\u001b[0;34m)\u001b[0m\u001b[0;34m\u001b[0m\u001b[0m\n",
      "\u001b[0;32m/usr/local/lib/python2.7/dist-packages/tensorflow/python/client/session.pyc\u001b[0m in \u001b[0;36m_run_fn\u001b[0;34m(session, feed_dict, fetch_list, target_list, options, run_metadata)\u001b[0m\n\u001b[1;32m   1019\u001b[0m         return tf_session.TF_Run(session, options,\n\u001b[1;32m   1020\u001b[0m                                  \u001b[0mfeed_dict\u001b[0m\u001b[0;34m,\u001b[0m \u001b[0mfetch_list\u001b[0m\u001b[0;34m,\u001b[0m \u001b[0mtarget_list\u001b[0m\u001b[0;34m,\u001b[0m\u001b[0;34m\u001b[0m\u001b[0m\n\u001b[0;32m-> 1021\u001b[0;31m                                  status, run_metadata)\n\u001b[0m\u001b[1;32m   1022\u001b[0m \u001b[0;34m\u001b[0m\u001b[0m\n\u001b[1;32m   1023\u001b[0m     \u001b[0;32mdef\u001b[0m \u001b[0m_prun_fn\u001b[0m\u001b[0;34m(\u001b[0m\u001b[0msession\u001b[0m\u001b[0;34m,\u001b[0m \u001b[0mhandle\u001b[0m\u001b[0;34m,\u001b[0m \u001b[0mfeed_dict\u001b[0m\u001b[0;34m,\u001b[0m \u001b[0mfetch_list\u001b[0m\u001b[0;34m)\u001b[0m\u001b[0;34m:\u001b[0m\u001b[0;34m\u001b[0m\u001b[0m\n",
      "\u001b[0;31mKeyboardInterrupt\u001b[0m: "
     ]
    }
   ],
   "source": [
    "batch_size = 20\n",
    "epoch = int( MicroArray_train.shape[0] / batch_size)\n",
    "print epoch\n",
    "epoch_iter = 1000\n",
    "max_test = 0\n",
    "\n",
    "for step in range(epoch_iter * epoch):\n",
    "  random = np.random.choice(MicroArray_train.shape[0],batch_size,replace=False)\n",
    "#   while(not valid_batch(Labels[random])):\n",
    "#         random = np.random.choice(MicroArray_train.shape[0],batch_size,replace=False)\n",
    "  feed_dict = {x: MicroArray_train[random,:], y_: MicroLabels_train[random]}\n",
    "  _,a = sess.run([train_step,loss],feed_dict=feed_dict)\n",
    "  b = eval_loss(MicroArray_test,MicroLabels_test)  \n",
    "  if(step % epoch == 0):\n",
    "      train_loss.append(a)\n",
    "      test_loss.append(b)\n",
    "      train_accuracy = eval_accuracy(MicroArray_train,MicroLabels_train)\n",
    "      test_accuracy = eval_accuracy(MicroArray_test,MicroLabels_test)\n",
    "      train_acc.append(train_accuracy)\n",
    "      test_acc.append(test_accuracy)\n",
    "      if(test_accuracy>max_test):\n",
    "        max_test = test_accuracy\n",
    "        save_model(\"pca+l2+1e-2\")\n",
    "      print \"epoch:%d   train loss:%f ,test loss :%f,train accuracy:%f,test accuracy:%f\" % \\\n",
    "        (step/epoch,a,b,train_accuracy,test_accuracy)"
   ]
  },
  {
   "cell_type": "code",
   "execution_count": 27,
   "metadata": {},
   "outputs": [
    {
     "name": "stdout",
     "output_type": "stream",
     "text": [
      "INFO:tensorflow:Restoring parameters from ./models/pca+l2+1e-2.ckpt\n",
      "Model restored.\n",
      "0.927884615385\n"
     ]
    }
   ],
   "source": [
    "load_model(\"pca+l2+1e-2\")\n",
    "print eval_accuracy(MicroArray_test,MicroLabels_test)"
   ]
  },
  {
   "cell_type": "code",
   "execution_count": 25,
   "metadata": {},
   "outputs": [
    {
     "data": {
      "image/png": "[encoded data removed]",
      "text/plain": [
       "<matplotlib.figure.Figure at 0x7f85e3058d90>"
      ]
     },
     "metadata": {},
     "output_type": "display_data"
    }
   ],
   "source": [
    "plt.plot(train_loss,\"b\")\n",
    "plt.plot(test_loss,\"g\")\n",
    "plt.show()"
   ]
  },
  {
   "cell_type": "code",
   "execution_count": 26,
   "metadata": {},
   "outputs": [
    {
     "data": {
      "image/png": "[encoded data removed]",
      "text/plain": [
       "<matplotlib.figure.Figure at 0x7f85e27e3410>"
      ]
     },
     "metadata": {},
     "output_type": "display_data"
    }
   ],
   "source": [
    "plt.plot(train_acc,\"b\")\n",
    "plt.plot(test_acc,\"g\")\n",
    "plt.show()"
   ]
  }
 ],
 "metadata": {
  "kernelspec": {
   "display_name": "Python 2",
   "language": "python",
   "name": "python2"
  },
  "language_info": {
   "codemirror_mode": {
    "name": "ipython",
    "version": 2
   },
   "file_extension": ".py",
   "mimetype": "text/x-python",
   "name": "python",
   "nbconvert_exporter": "python",
   "pygments_lexer": "ipython2",
   "version": "2.7.12"
  }
 },
 "nbformat": 4,
 "nbformat_minor": 2
}
