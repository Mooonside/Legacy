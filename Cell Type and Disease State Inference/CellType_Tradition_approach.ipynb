{
 "cells": [
  {
   "cell_type": "code",
   "execution_count": 1,
   "metadata": {},
   "outputs": [],
   "source": [
    "import numpy as np\n",
    "import time \n",
    "import matplotlib.pyplot as plt\n",
    "from util import *\n",
    "\n",
    "%load_ext autoreload\n",
    "%autoreload 2"
   ]
  },
  {
   "cell_type": "code",
   "execution_count": 2,
   "metadata": {},
   "outputs": [
    {
     "ename": "IOError",
     "evalue": "[Errno 2] No such file or directory: 'Gene_Chip_Data/E-TABM-185.sdrf.txt'",
     "output_type": "error",
     "traceback": [
      "\u001b[0;31m---------------------------------------------------------------------------\u001b[0m",
      "\u001b[0;31mIOError\u001b[0m                                   Traceback (most recent call last)",
      "\u001b[0;32m<ipython-input-2-823a5dfb0fef>\u001b[0m in \u001b[0;36m<module>\u001b[0;34m()\u001b[0m\n\u001b[0;32m----> 1\u001b[0;31m \u001b[0mMicroArray\u001b[0m\u001b[0;34m,\u001b[0m\u001b[0mLabels\u001b[0m \u001b[0;34m=\u001b[0m \u001b[0mread_data\u001b[0m\u001b[0;34m(\u001b[0m\u001b[0mmode\u001b[0m\u001b[0;34m=\u001b[0m\u001b[0;34m\"CellType\"\u001b[0m\u001b[0;34m,\u001b[0m\u001b[0mth\u001b[0m\u001b[0;34m=\u001b[0m\u001b[0;36m20\u001b[0m\u001b[0;34m)\u001b[0m\u001b[0;34m\u001b[0m\u001b[0m\n\u001b[0m\u001b[1;32m      2\u001b[0m \u001b[0;32mprint\u001b[0m \u001b[0mMicroArray\u001b[0m\u001b[0;34m.\u001b[0m\u001b[0mshape\u001b[0m\u001b[0;34m,\u001b[0m\u001b[0mLabels\u001b[0m\u001b[0;34m.\u001b[0m\u001b[0mshape\u001b[0m\u001b[0;34m\u001b[0m\u001b[0m\n",
      "\u001b[0;32m/home/yifeng/Projects/ai project/util.pyc\u001b[0m in \u001b[0;36mread_data\u001b[0;34m(mode, th)\u001b[0m\n\u001b[1;32m     48\u001b[0m \u001b[0;34m\u001b[0m\u001b[0m\n\u001b[1;32m     49\u001b[0m     \u001b[0mi\u001b[0m \u001b[0;34m=\u001b[0m \u001b[0;36m0\u001b[0m\u001b[0;34m\u001b[0m\u001b[0m\n\u001b[0;32m---> 50\u001b[0;31m     \u001b[0;32mwith\u001b[0m \u001b[0mopen\u001b[0m\u001b[0;34m(\u001b[0m\u001b[0;34m\"Gene_Chip_Data/E-TABM-185.sdrf.txt\"\u001b[0m\u001b[0;34m)\u001b[0m \u001b[0;32mas\u001b[0m \u001b[0mf\u001b[0m\u001b[0;34m:\u001b[0m\u001b[0;34m\u001b[0m\u001b[0m\n\u001b[0m\u001b[1;32m     51\u001b[0m         \u001b[0;32mfor\u001b[0m \u001b[0mline\u001b[0m \u001b[0;32min\u001b[0m \u001b[0mf\u001b[0m\u001b[0;34m:\u001b[0m\u001b[0;34m\u001b[0m\u001b[0m\n\u001b[1;32m     52\u001b[0m             \u001b[0msplitlist\u001b[0m \u001b[0;34m=\u001b[0m \u001b[0mline\u001b[0m\u001b[0;34m.\u001b[0m\u001b[0msplit\u001b[0m\u001b[0;34m(\u001b[0m\u001b[0;34m\"\\t\"\u001b[0m\u001b[0;34m)\u001b[0m\u001b[0;34m\u001b[0m\u001b[0m\n",
      "\u001b[0;31mIOError\u001b[0m: [Errno 2] No such file or directory: 'Gene_Chip_Data/E-TABM-185.sdrf.txt'"
     ]
    }
   ],
   "source": [
    "MicroArray,Labels = read_data(mode=\"CellType\",th=20)\n",
    "print MicroArray.shape,Labels.shape"
   ]
  },
  {
   "cell_type": "code",
   "execution_count": 45,
   "metadata": {},
   "outputs": [
    {
     "name": "stdout",
     "output_type": "stream",
     "text": [
      "19\n",
      "4 293.0\n",
      "11 20.0\n",
      "56.6842105263\n"
     ]
    },
    {
     "data": {
      "image/png": "[encoded data removed]",
      "text/plain": [
       "<matplotlib.figure.Figure at 0x7fd63016e510>"
      ]
     },
     "metadata": {},
     "output_type": "display_data"
    }
   ],
   "source": [
    "import matplotlib.pyplot as plt\n",
    "uniq = np.unique(Labels)\n",
    "distribution = np.zeros(len(uniq))\n",
    "\n",
    "print len(uniq)\n",
    "for i in range(len(Labels)):\n",
    "    distribution[int(Labels[i])] += 1\n",
    "    \n",
    "print np.argmax(distribution),np.max(distribution)\n",
    "print np.argmax(-distribution),np.min(distribution)\n",
    "print np.mean(distribution)\n",
    "#plt.ylim(0,100)\n",
    "plt.hlines(5,0,len(uniq))\n",
    "\n",
    "plt.plot(distribution,\"r\")\n",
    "plt.show()"
   ]
  },
  {
   "cell_type": "markdown",
   "metadata": {},
   "source": [
    "# Do naive linear regression without data processing"
   ]
  },
  {
   "cell_type": "code",
   "execution_count": 46,
   "metadata": {},
   "outputs": [
    {
     "name": "stdout",
     "output_type": "stream",
     "text": [
      "(869, 22283)\n",
      "(208, 22283)\n",
      "(869,)\n",
      "(208,)\n"
     ]
    }
   ],
   "source": [
    "## shuffle data and divide it into train & set\n",
    "from util import *\n",
    "\n",
    "MicroArray_train,MicroLabels_train,MicroArray_test,MicroLabels_test = division(MicroArray,Labels)\n",
    "\n",
    "MicroLabels_train = MicroLabels_train.reshape([MicroLabels_train.shape[0]])\n",
    "MicroLabels_test = MicroLabels_test.reshape([MicroLabels_test.shape[0]])\n",
    "\n",
    "print MicroArray_train.shape\n",
    "print MicroArray_test.shape\n",
    "print MicroLabels_train.shape\n",
    "print MicroLabels_test.shape"
   ]
  },
  {
   "cell_type": "code",
   "execution_count": 47,
   "metadata": {},
   "outputs": [
    {
     "name": "stdout",
     "output_type": "stream",
     "text": [
      "Accuracy = 88.9423% (185/208) (classification)\n",
      "Accuracy = 97.3533% (846/869) (classification)\n",
      "total time: 93.3808269501\n",
      "97.3532796318\n"
     ]
    }
   ],
   "source": [
    "import liblinearutil as linear_classifier\n",
    "\n",
    "tic = time.time()\n",
    "prob = linear_classifier.problem(MicroLabels_train,MicroArray_train)\n",
    "\n",
    "param = linear_classifier.parameter('-s 0 -c 20 -B 1')\n",
    "model = linear_classifier.train(prob,param)\n",
    "\n",
    "p_label,p_acc,p_val = linear_classifier.predict(MicroLabels_test,MicroArray_test,model)\n",
    "ACC,MSE,SCC = linear_classifier.evaluations(MicroLabels_test,p_label)\n",
    "\n",
    "p_label,p_acc,p_val = linear_classifier.predict(MicroLabels_train,MicroArray_train,model)\n",
    "ACC,MSE,SCC = linear_classifier.evaluations(MicroLabels_train,p_label)\n",
    "\n",
    "toc = time.time()\n",
    "\n",
    "print \"total time:\",toc-tic\n",
    "print ACC"
   ]
  },
  {
   "cell_type": "markdown",
   "metadata": {},
   "source": [
    "# Try PCA"
   ]
  },
  {
   "cell_type": "code",
   "execution_count": 39,
   "metadata": {
    "collapsed": true
   },
   "outputs": [],
   "source": [
    "def rel_error(x, y):\n",
    "    return np.max(np.abs(x - y) / (np.maximum(1e-8, np.abs(x) + np.abs(y))))"
   ]
  },
  {
   "cell_type": "code",
   "execution_count": 48,
   "metadata": {},
   "outputs": [
    {
     "name": "stdout",
     "output_type": "stream",
     "text": [
      "883\n",
      "(1077, 883)\n"
     ]
    }
   ],
   "source": [
    "ProjArray = pca(MicroArray,0.95)\n",
    "print ProjArray.shape"
   ]
  },
  {
   "cell_type": "code",
   "execution_count": 49,
   "metadata": {},
   "outputs": [
    {
     "name": "stdout",
     "output_type": "stream",
     "text": [
      "(869, 883)\n",
      "(208, 883)\n",
      "(869,)\n",
      "(208,)\n"
     ]
    }
   ],
   "source": [
    "## shuffle data and divide it into 5 parts\n",
    "from util import *\n",
    "\n",
    "ProjLabels = Labels\n",
    "ProjArray_train,ProjLabels_train,ProjArray_test,ProjLabels_test = division(ProjArray,ProjLabels)\n",
    "ProjLabels_train = ProjLabels_train.reshape([ProjLabels_train.shape[0]])\n",
    "ProjLabels_test = ProjLabels_test.reshape([ProjLabels_test.shape[0]])\n",
    "\n",
    "print ProjArray_train.shape\n",
    "print ProjArray_test.shape\n",
    "print ProjLabels_train.shape\n",
    "print ProjLabels_test.shape"
   ]
  },
  {
   "cell_type": "markdown",
   "metadata": {},
   "source": [
    "## do linear regression after pca"
   ]
  },
  {
   "cell_type": "code",
   "execution_count": 50,
   "metadata": {},
   "outputs": [
    {
     "name": "stdout",
     "output_type": "stream",
     "text": [
      "Accuracy = 67.3077% (140/208) (classification)\n",
      "Accuracy = 97.3533% (846/869) (classification)\n",
      "total time: 10.6990580559\n",
      "97.3532796318\n"
     ]
    }
   ],
   "source": [
    "import liblinearutil as linear_classifier\n",
    "\n",
    "tic = time.time()\n",
    "prob = linear_classifier.problem(ProjLabels_train,ProjArray_train)\n",
    "param = linear_classifier.parameter('-s 0 -c 20 -B 1')\n",
    "model = linear_classifier.train(prob,param)\n",
    "\n",
    "p_label,p_acc,p_val = linear_classifier.predict(ProjLabels_test,ProjArray_test,model)\n",
    "ACC,MSE,SCC = linear_classifier.evaluations(ProjLabels_test,p_label)\n",
    "\n",
    "p_label,p_acc,p_val = linear_classifier.predict(ProjLabels_train,ProjArray_train,model)\n",
    "ACC,MSE,SCC = linear_classifier.evaluations(ProjLabels_train,p_label)\n",
    "toc = time.time()\n",
    "\n",
    "print \"total time:\",toc-tic\n",
    "print ACC"
   ]
  },
  {
   "cell_type": "markdown",
   "metadata": {},
   "source": [
    "# Do robust PCA"
   ]
  },
  {
   "cell_type": "code",
   "execution_count": 13,
   "metadata": {},
   "outputs": [
    {
     "name": "stdout",
     "output_type": "stream",
     "text": [
      "\n",
      "iter\t    r norm\t   eps pri\t    s norm\t  eps dual\t objective\n",
      "   1\t10066.5644\t  170.3670\t16951.8514\t  167.3954\t55639467.50\n",
      "  10\t 4100.3474\t  254.1957\t 2464.8443\t  157.9858\t185887442.58\n",
      "  20\t 1050.3421\t  250.3522\t  544.5018\t   99.7027\t147792733.97\n",
      "  30\t  384.6562\t  243.4925\t  203.7492\t   99.9190\t138657192.63\n"
     ]
    }
   ],
   "source": [
    "from rpca import *\n",
    "A = rpcaADMM(MicroArray)\n",
    "LowRank = A['X3_admm']"
   ]
  },
  {
   "cell_type": "code",
   "execution_count": 47,
   "metadata": {},
   "outputs": [
    {
     "data": {
      "text/plain": [
       "1"
      ]
     },
     "execution_count": 47,
     "metadata": {},
     "output_type": "execute_result"
    }
   ],
   "source": [
    "np.linalg.matrix_rank(LowRank)"
   ]
  },
  {
   "cell_type": "code",
   "execution_count": 48,
   "metadata": {
    "collapsed": true
   },
   "outputs": [],
   "source": [
    "np.save(\"ct_lowrank\",LowRank)"
   ]
  },
  {
   "cell_type": "code",
   "execution_count": 18,
   "metadata": {
    "collapsed": true
   },
   "outputs": [],
   "source": [
    "# singualr values already stored in descending order\n",
    "LR_U, LR_sing_vals, LR_V = np.linalg.svd(LowRank, full_matrices=False)"
   ]
  },
  {
   "cell_type": "code",
   "execution_count": 87,
   "metadata": {},
   "outputs": [
    {
     "name": "stdout",
     "output_type": "stream",
     "text": [
      "(1077, 100)\n"
     ]
    }
   ],
   "source": [
    "cut = 100\n",
    "LR_U_cut = LR_U[:,0:cut]\n",
    "LR_sing_cut = LR_sing_vals[0:cut]\n",
    "LR_V_cut = LR_V[0:cut,:]\n",
    "LR_ProjArray = MicroArray.dot(LR_V_cut.T)\n",
    "#LR_ProjArray = LR_U_cut.dot(np.diag(LR_sing_cut))\n",
    "\n",
    "print LR_ProjArray.shape"
   ]
  },
  {
   "cell_type": "code",
   "execution_count": 88,
   "metadata": {},
   "outputs": [
    {
     "name": "stdout",
     "output_type": "stream",
     "text": [
      "(869, 100)\n",
      "(208, 100)\n",
      "(869,)\n",
      "(208,)\n"
     ]
    }
   ],
   "source": [
    "## shuffle data and divide it into 5 parts\n",
    "from util import *\n",
    "\n",
    "LR_ProjLabels = Labels\n",
    "LR_ProjArray_train,LR_ProjLabels_train,LR_ProjArray_test,LR_ProjLabels_test = division(LR_ProjArray,LR_ProjLabels)\n",
    "LR_ProjLabels_train = LR_ProjLabels_train.reshape([LR_ProjLabels_train.shape[0]])\n",
    "LR_ProjLabels_test = LR_ProjLabels_test.reshape([LR_ProjLabels_test.shape[0]])\n",
    "\n",
    "print LR_ProjArray_train.shape\n",
    "print LR_ProjArray_test.shape\n",
    "print LR_ProjLabels_train.shape\n",
    "print LR_ProjLabels_test.shape"
   ]
  },
  {
   "cell_type": "markdown",
   "metadata": {},
   "source": [
    "## low rank PCA to do linear regression"
   ]
  },
  {
   "cell_type": "code",
   "execution_count": 89,
   "metadata": {},
   "outputs": [
    {
     "name": "stdout",
     "output_type": "stream",
     "text": [
      "Accuracy = 86.0577% (179/208) (classification)\n",
      "total time: 0.381976127625\n",
      "86.0576923077\n"
     ]
    }
   ],
   "source": [
    "import liblinearutil as linear_classifier\n",
    "\n",
    "tic = time.time()\n",
    "prob = linear_classifier.problem(LR_ProjLabels_train,LR_ProjArray_train)\n",
    "param = linear_classifier.parameter('-s 0 -c 20 -B 1')\n",
    "model = linear_classifier.train(prob,param)\n",
    "\n",
    "p_label,p_acc,p_val = linear_classifier.predict(LR_ProjLabels_test,LR_ProjArray_test,model)\n",
    "ACC,MSE,SCC = linear_classifier.evaluations(LR_ProjLabels_test,p_label)\n",
    "toc = time.time()\n",
    "\n",
    "print \"total time:\",toc-tic\n",
    "print ACC"
   ]
  }
 ],
 "metadata": {
  "kernelspec": {
   "display_name": "Python 2",
   "language": "python",
   "name": "python2"
  },
  "language_info": {
   "codemirror_mode": {
    "name": "ipython",
    "version": 2
   },
   "file_extension": ".py",
   "mimetype": "text/x-python",
   "name": "python",
   "nbconvert_exporter": "python",
   "pygments_lexer": "ipython2",
   "version": "2.7.12"
  }
 },
 "nbformat": 4,
 "nbformat_minor": 2
}
