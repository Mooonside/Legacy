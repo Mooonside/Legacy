{
 "cells": [
  {
   "cell_type": "code",
   "execution_count": 6,
   "metadata": {
    "collapsed": true
   },
   "outputs": [],
   "source": [
    "import numpy as np\n",
    "import time \n",
    "import matplotlib.pyplot as plt\n",
    "from util import *\n",
    "\n",
    "%load_ext autoreload\n",
    "%autoreload 2"
   ]
  },
  {
   "cell_type": "code",
   "execution_count": 19,
   "metadata": {},
   "outputs": [
    {
     "name": "stdout",
     "output_type": "stream",
     "text": [
      "We finish building the model\n"
     ]
    }
   ],
   "source": [
    "from keras.layers import Input, Convolution2D, Flatten, Dense, Activation\n",
    "from keras.models import Sequential\n",
    "from keras.optimizers import SGD , Adam\n",
    "from keras.utils import plot_model\n",
    "from keras import regularizers\n",
    "# apply a 3x3 convolution with 64 output filters on a 256x256 image:\n",
    "model = Sequential()\n",
    "model.add(Dense(2000, input_shape=(1100,),activation='relu',kernel_regularizer=regularizers.l2(1e-3),\n",
    "                activity_regularizer=regularizers.l2(1e-3)))\n",
    "\n",
    "# now model.output_shape == (None, 64, 256, 256)\n",
    "\n",
    "# add a 3x3 convolution on top, with 32 output filters:\n",
    "model.add(Dense(1000, input_shape=(2000,)))\n",
    "# now model.output_shape == (None, 32, 256, 256)\n",
    "model.add(Dense(500, input_shape=(1000,)))\n",
    "model.add(Dense(19, input_shape=(500,)))\n",
    "###\n",
    "adam = Adam(lr=1e-3)\n",
    "model.compile(loss='mse',optimizer=adam)\n",
    "print(\"We finish building the model\")\n",
    "\n",
    "plot_model(model, to_file='model1.png', show_shapes=True)"
   ]
  },
  {
   "cell_type": "code",
   "execution_count": 7,
   "metadata": {},
   "outputs": [
    {
     "name": "stdout",
     "output_type": "stream",
     "text": [
      "Loading Previous Data!\n"
     ]
    }
   ],
   "source": [
    "MicroArray,Labels = read_data(mode=\"DiseaseStage\",th=20)"
   ]
  },
  {
   "cell_type": "code",
   "execution_count": 8,
   "metadata": {},
   "outputs": [
    {
     "name": "stdout",
     "output_type": "stream",
     "text": [
      "(3053, 22283)\n",
      "(43,)\n"
     ]
    }
   ],
   "source": [
    "print MicroArray.shape\n",
    "print np.unique(Labels).shape"
   ]
  },
  {
   "cell_type": "code",
   "execution_count": 3,
   "metadata": {},
   "outputs": [
    {
     "name": "stdout",
     "output_type": "stream",
     "text": [
      "(2458, 22283)\n",
      "(595, 22283)\n",
      "(2458,)\n",
      "(595,)\n"
     ]
    }
   ],
   "source": [
    "## shuffle data and divide it into train & set\n",
    "from util import *\n",
    "\n",
    "MicroArray_train,MicroLabels_train,MicroArray_test,MicroLabels_test = division(MicroArray,Labels)\n",
    "\n",
    "MicroLabels_train = MicroLabels_train.reshape([MicroLabels_train.shape[0]])\n",
    "MicroLabels_test = MicroLabels_test.reshape([MicroLabels_test.shape[0]])\n",
    "\n",
    "print MicroArray_train.shape\n",
    "print MicroArray_test.shape\n",
    "print MicroLabels_train.shape\n",
    "print MicroLabels_test.shape"
   ]
  },
  {
   "cell_type": "code",
   "execution_count": 4,
   "metadata": {},
   "outputs": [
    {
     "name": "stdout",
     "output_type": "stream",
     "text": [
      "Accuracy = 87.0588% (518/595) (classification)\n",
      "total time: 390.692141056\n",
      "87.0588235294\n"
     ]
    }
   ],
   "source": [
    "import liblinearutil as linear_classifier\n",
    "\n",
    "tic = time.time()\n",
    "prob = linear_classifier.problem(MicroLabels_train,MicroArray_train)\n",
    "\n",
    "param = linear_classifier.parameter('-s 0 -c 20 -B 1')\n",
    "model = linear_classifier.train(prob,param)\n",
    "\n",
    "p_label,p_acc,p_val = linear_classifier.predict(MicroLabels_test,MicroArray_test,model)\n",
    "ACC,MSE,SCC = linear_classifier.evaluations(MicroLabels_test,p_label)\n",
    "toc = time.time()\n",
    "\n",
    "print \"total time:\",toc-tic\n",
    "print ACC"
   ]
  },
  {
   "cell_type": "markdown",
   "metadata": {},
   "source": [
    "# Try PCA"
   ]
  },
  {
   "cell_type": "code",
   "execution_count": null,
   "metadata": {
    "collapsed": true
   },
   "outputs": [],
   "source": [
    "# sing_cumsum = np.cumsum(sing_vals)\n",
    "# sing_ratio = sing_cumsum/np.sum(sing_vals)\n",
    "# plt.plot(sing_ratio)\n",
    "# for cut in range(3000,3600,100):\n",
    "#     print cut,sing_ratio[cut]\n",
    "#     plt.plot(cut,sing_ratio[cut],\"ro\")\n",
    "# plt.show()"
   ]
  },
  {
   "cell_type": "code",
   "execution_count": null,
   "metadata": {
    "collapsed": true
   },
   "outputs": [],
   "source": [
    "# cut = 3000\n",
    "\n",
    "# U_cut = U[:,0:cut]\n",
    "# sing_cut = sing_vals[0:cut]\n",
    "# V_cut = V[0:cut,:]\n",
    "# print U_cut.shape,sing_cut.shape,V_cut.shape\n",
    "\n",
    "# ProjArray = U_cut.dot(np.diag(sing_cut))\n",
    "# print ProjArray.shape"
   ]
  },
  {
   "cell_type": "code",
   "execution_count": 5,
   "metadata": {},
   "outputs": [
    {
     "name": "stdout",
     "output_type": "stream",
     "text": [
      "2322\n"
     ]
    }
   ],
   "source": [
    "ProjArray = pca(MicroArray,0.95)"
   ]
  },
  {
   "cell_type": "code",
   "execution_count": 6,
   "metadata": {},
   "outputs": [
    {
     "name": "stdout",
     "output_type": "stream",
     "text": [
      "(2458, 2322)\n",
      "(595, 2322)\n",
      "(2458,)\n",
      "(595,)\n"
     ]
    }
   ],
   "source": [
    "## shuffle data and divide it into 5 parts\n",
    "from util import *\n",
    "\n",
    "ProjLabels = Labels\n",
    "ProjArray_train,ProjLabels_train,ProjArray_test,ProjLabels_test = division(ProjArray,ProjLabels)\n",
    "ProjLabels_train = ProjLabels_train.reshape([ProjLabels_train.shape[0]])\n",
    "ProjLabels_test = ProjLabels_test.reshape([ProjLabels_test.shape[0]])\n",
    "\n",
    "print ProjArray_train.shape\n",
    "print ProjArray_test.shape\n",
    "print ProjLabels_train.shape\n",
    "print ProjLabels_test.shape"
   ]
  },
  {
   "cell_type": "code",
   "execution_count": 7,
   "metadata": {},
   "outputs": [
    {
     "name": "stdout",
     "output_type": "stream",
     "text": [
      "Accuracy = 87.7311% (522/595) (classification)\n",
      "total time: 268.804051161\n",
      "87.731092437\n"
     ]
    }
   ],
   "source": [
    "import liblinearutil as linear_classifier\n",
    "\n",
    "tic = time.time()\n",
    "prob = linear_classifier.problem(ProjLabels_train,ProjArray_train)\n",
    "param = linear_classifier.parameter('-s 0 -c 20 -B 1')\n",
    "model = linear_classifier.train(prob,param)\n",
    "\n",
    "p_label,p_acc,p_val = linear_classifier.predict(ProjLabels_test,ProjArray_test,model)\n",
    "ACC,MSE,SCC = linear_classifier.evaluations(ProjLabels_test,p_label)\n",
    "toc = time.time()\n",
    "\n",
    "print \"total time:\",toc-tic\n",
    "print ACC"
   ]
  },
  {
   "cell_type": "markdown",
   "metadata": {
    "collapsed": true
   },
   "source": [
    "# low rank"
   ]
  },
  {
   "cell_type": "code",
   "execution_count": 3,
   "metadata": {},
   "outputs": [
    {
     "name": "stdout",
     "output_type": "stream",
     "text": [
      "\n",
      "iter\t    r norm\t   eps pri\t    s norm\t  eps dual\t objective\n",
      "   1\t16985.1815\t  286.0049\t28457.6289\t  280.8639\t155164890.16\n",
      "  10\t 6706.6550\t  424.3059\t 4182.1618\t  270.5618\t528273850.53\n",
      "  20\t 1838.8322\t  419.0288\t  931.2457\t  171.9436\t425203466.44\n",
      "  30\t  722.4489\t  406.1955\t  377.6303\t  172.2705\t395442242.81\n"
     ]
    }
   ],
   "source": [
    "from rpca import *\n",
    "A = rpcaADMM(MicroArray)\n",
    "LowRank = A['X3_admm']"
   ]
  },
  {
   "cell_type": "code",
   "execution_count": null,
   "metadata": {
    "collapsed": true
   },
   "outputs": [],
   "source": [
    "# singualr values already stored in descending order\n",
    "LR_U, LR_sing_vals, LR_V = np.linalg.svd(LowRank, full_matrices=False)"
   ]
  },
  {
   "cell_type": "code",
   "execution_count": null,
   "metadata": {
    "collapsed": true
   },
   "outputs": [],
   "source": [
    "cut = 100\n",
    "LR_U_cut = LR_U[:,0:cut]\n",
    "LR_sing_cut = LR_sing_vals[0:cut]\n",
    "LR_V_cut = LR_V[0:cut,:]\n",
    "LR_ProjArray = MicroArray.dot(LR_V_cut.T)\n",
    "#LR_ProjArray = LR_U_cut.dot(np.diag(LR_sing_cut))\n",
    "\n",
    "print LR_ProjArray.shape"
   ]
  },
  {
   "cell_type": "code",
   "execution_count": null,
   "metadata": {
    "collapsed": true
   },
   "outputs": [],
   "source": [
    "## shuffle data and divide it into 5 parts\n",
    "                                                                                                            from util import *\n",
    "    \n",
    "                    Labels                                                                                                                                                                                                                                                                                                                                                                                                                                                                                                                                                                                                                                                                                                                                                                                                                                                                                                                                                                                                                            LR_ProjLabels = Labels\n",
    "LR_ProjArray_train,LR_ProjLabels_train,LR_ProjArray_test,LR_ProjLabels_test = division(LR_ProjArray,LR_ProjLabels)\n",
    "LR_ProjLabels_train = LR_ProjLabels_train.reshape([LR_ProjLabels_train.shape[0]])\n",
    "LR_ProjLabels_test = LR_ProjLabels_test.reshape([LR_ProjLabels_test.shape[0]])\n",
    "\n",
    "print LR_ProjArray_train.shape\n",
    "print LR_ProjArray_test.shape\n",
    "print LR_ProjLabels_train.shape\n",
    "print LR_ProjLabels_test.shape"
   ]
  },
  {
   "cell_type": "code",
   "execution_count": null,
   "metadata": {
    "collapsed": true
   },
   "outputs": [],
   "source": []
  },
  {
   "cell_type": "code",
   "execution_count": null,
   "metadata": {
    "collapsed": true
   },
   "outputs": [],
   "source": []
  },
  {
   "cell_type": "code",
   "execution_count": null,
   "metadata": {
    "collapsed": true
   },
   "outputs": [],
   "source": []
  },
  {
   "cell_type": "code",
   "execution_count": null,
   "metadata": {
    "collapsed": true
   },
   "outputs": [],
   "source": [
    "import liblinearutil as linear_classifier\n",
    "\n",
    "tic = time.time()\n",
    "prob = linear_classifier.problem(LR_ProjLabels_train,LR_ProjArray_train)\n",
    "param = linear_classifier.parameter('-s 0 -c 20 -B 1')\n",
    "model = linear_classifier.train(prob,param)\n",
    "\n",
    "p_label,p_acc,p_val = linear_classifier.predict(LR_ProjLabels_test,LR_ProjArray_test,model)\n",
    "ACC,MSE,SCC = linear_classifier.evaluations(LR_ProjLabels_test,p_label)\n",
    "toc = time.time()\n",
    "\n",
    "print \"total time:\",toc-tic\n",
    "print ACC"
   ]
  }
 ],
 "metadata": {
  "kernelspec": {
   "display_name": "Python 2",
   "language": "python",
   "name": "python2"
  },
  "language_info": {
   "codemirror_mode": {
    "name": "ipython",
    "version": 2
   },
   "file_extension": ".py",
   "mimetype": "text/x-python",
   "name": "python",
   "nbconvert_exporter": "python",
   "pygments_lexer": "ipython2",
   "version": "2.7.12"
  }
 },
 "nbformat": 4,
 "nbformat_minor": 2
}
