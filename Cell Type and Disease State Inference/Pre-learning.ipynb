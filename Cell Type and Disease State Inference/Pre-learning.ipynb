{
 "cells": [
  {
   "cell_type": "code",
   "execution_count": 1,
   "metadata": {
    "collapsed": true
   },
   "outputs": [],
   "source": [
    "import numpy as np\n",
    "import time \n",
    "\n",
    "%load_ext autoreload\n",
    "%autoreload 2"
   ]
  },
  {
   "cell_type": "code",
   "execution_count": 2,
   "metadata": {},
   "outputs": [
    {
     "name": "stdout",
     "output_type": "stream",
     "text": [
      " read in labels in 0.042897 s\n",
      "read in array data in 64.989205 s\n"
     ]
    },
    {
     "data": {
      "image/png": "[encoded data removed]",
      "text/plain": [
       "<matplotlib.figure.Figure at 0x7ff7b5c676d0>"
      ]
     },
     "metadata": {},
     "output_type": "display_data"
    }
   ],
   "source": [
    "# read in microarray info , arrayid is stored in idlist\n",
    "TypeSet = set()\n",
    "\n",
    "tic = time.time()\n",
    "i = 0\n",
    "with open(\"Gene_Chip_Data/E-TABM-185.sdrf.txt\") as f:\n",
    "    for line in f:\n",
    "        splitlist = line.split(\"\\t\")\n",
    "        if(i == 0):\n",
    "            pass\n",
    "        else:\n",
    "            cell_type = splitlist[4]\n",
    "            # throw away datas with no labels\n",
    "            if(cell_type != \"  \"):\n",
    "                TypeSet.add(cell_type)\n",
    "        i += 1\n",
    "\n",
    "TypeDict = {}\n",
    "j = 0\n",
    "for i in TypeSet:\n",
    "    TypeDict[i] = j\n",
    "    j += 1\n",
    "\n",
    "# print \"Mapping relationship\"\n",
    "# for i in TypeDict.keys():\n",
    "#     print i,\"------>\",TypeDict[i]\n",
    "\n",
    "i = 0\n",
    "Labels = []\n",
    "with open(\"Gene_Chip_Data/E-TABM-185.sdrf.txt\") as f:\n",
    "    for line in f:\n",
    "        splitlist = line.split(\"\\t\")\n",
    "        if(i == 0):\n",
    "            pass\n",
    "        else:\n",
    "            hyber_name = splitlist[14]\n",
    "            cell_type = splitlist[4]\n",
    "            if not(cell_type[0] == \" \"):\n",
    "                Labels.append(TypeDict[cell_type])\n",
    "            else:\n",
    "                Labels.append(-1)\n",
    "        i += 1\n",
    "toc = time.time()\n",
    "\n",
    "print \" read in labels in %f s\" % (toc-tic)\n",
    "\n",
    "# read in microarray info , arrayid is stored in idlist\n",
    "GeneID = []\n",
    "ProbeSetID = []\n",
    "RawArray = np.zeros([5896,22283])\n",
    "\n",
    "tic = time.time()\n",
    "i = 0\n",
    "with open(\"Gene_Chip_Data/microarray.original.txt\") as f:\n",
    "    for line in f:\n",
    "        splitlist = line.split(\"\\t\")\n",
    "        if(i == 0):\n",
    "            for j in splitlist:\n",
    "                ProbeSetID.append(j)\n",
    "        else:\n",
    "            GeneID.append(splitlist[0])\n",
    "            RawArray[:,i-1] = np.asarray(splitlist[1:])\n",
    "        i += 1\n",
    "toc = time.time()\n",
    "\n",
    "print \"read in array data in %f s\" % (toc-tic)\n",
    "\n",
    "Labels = np.asarray(Labels)\n",
    "mask = (Labels != -1)\n",
    "MicroArray = RawArray[mask,:]\n",
    "Labels = Labels[mask]\n",
    "\n",
    "distribution = np.zeros(len(TypeSet))\n",
    "\n",
    "for i in range(len(Labels)):\n",
    "    distribution[int(Labels[i])] += 1\n",
    "\n",
    "import matplotlib.pyplot as plt\n",
    "plt.plot(distribution)\n",
    "plt.show()"
   ]
  },
  {
   "cell_type": "code",
   "execution_count": 3,
   "metadata": {},
   "outputs": [
    {
     "name": "stdout",
     "output_type": "stream",
     "text": [
      "(1297, 22283)\n",
      "(1297, 1)\n",
      "45\n"
     ]
    }
   ],
   "source": [
    "filter = []\n",
    "for idx,val in enumerate(Labels):\n",
    "    if(distribution[val] >= 5):\n",
    "        filter.append(idx)\n",
    "#print len(filter)\n",
    "\n",
    "MicroArray = MicroArray[filter,:]\n",
    "Labels = Labels[filter]\n",
    "print MicroArray.shape\n",
    "Labels = Labels.reshape([1297,1])\n",
    "print Labels.shape\n",
    "\n",
    "#totally 45 classes\n",
    "print np.sum(distribution >= 5)"
   ]
  },
  {
   "cell_type": "code",
   "execution_count": 4,
   "metadata": {
    "collapsed": true
   },
   "outputs": [],
   "source": [
    "import tensorflow as tf\n",
    "# creating nodes for the input images and target output classes.\n",
    "sess = tf.InteractiveSession()\n",
    "global_step_tensor = tf.Variable(0, trainable=False, name='global_step')\n",
    "x = tf.placeholder(tf.float32, shape=[None, 22283])\n",
    "y_ = tf.placeholder(tf.float32, shape=[None, 22283])\n",
    "reg_penalty = 1e-4\n",
    "\n",
    "W1 = tf.Variable(\n",
    "    tf.random_normal(shape = [22283,2000],mean=0.001,stddev=0.1),name = \"W1\"\n",
    ")\n",
    "b1 = tf.Variable(\n",
    "    tf.random_normal(shape = [2000],mean=0.001,stddev=0.1),name = \"b1\"\n",
    ")\n",
    "n1 = reg_penalty * (tf.reduce_sum(tf.square(W1)) + tf.reduce_sum(tf.square(b1)))\n",
    "y1 = tf.matmul(x,W1) + b1\n",
    "#o1 = tf.sigmoid(y1)\n",
    "o1 = tf.nn.relu(y1)\n",
    "\n",
    "W2 = tf.Variable(\n",
    "    tf.random_normal(shape = [2000,200],mean=0.001,stddev=0.1),name = \"W2\"\n",
    ")\n",
    "b2 = tf.Variable(\n",
    "    tf.random_normal(shape = [200],mean=0.001,stddev=0.1),name = \"b2\"\n",
    ")\n",
    "n2 = reg_penalty * (tf.reduce_sum(tf.square(W2)) + tf.reduce_sum(tf.square(b2)))\n",
    "y2 = tf.matmul(o1,W2) + b2\n",
    "#o2 = tf.sigmoid(y2)\n",
    "o2 = tf.nn.relu(y2)\n",
    "\n",
    "W3 = tf.Variable(\n",
    "    tf.random_normal(shape = [200,100],mean=0.001,stddev=0.1),name = \"W3\"\n",
    ")\n",
    "b3 = tf.Variable(\n",
    "    tf.random_normal(shape = [100],mean=0.001,stddev=0.1),name = \"b3\"\n",
    ")\n",
    "n3 = reg_penalty * (tf.reduce_sum(tf.square(W3)) + tf.reduce_sum(tf.square(b3)))\n",
    "y3 = tf.matmul(o2,W3) + b3\n",
    "#o3 = tf.sigmoid(y3)\n",
    "o3 = tf.nn.relu(y3)\n",
    "\n",
    "W4 = tf.Variable(\n",
    "    tf.random_normal(shape = [100,22283],mean=0.001,stddev=0.1),name = \"W4\"\n",
    ")\n",
    "b4 = tf.Variable(\n",
    "    tf.random_normal(shape = [22283],mean=0.001,stddev=0.1),name = \"b4\"\n",
    ")\n",
    "n4 = reg_penalty * (tf.reduce_sum(tf.square(W4)) + tf.reduce_sum(tf.square(b4)))\n",
    "y4 = tf.matmul(o3,W4) + b4\n",
    "\n",
    "mse_error = tf.losses.mean_squared_error(labels = y_,predictions = y4)\n",
    "\n",
    "loss = mse_error + n1 + n2 + n3 + n4"
   ]
  },
  {
   "cell_type": "code",
   "execution_count": 31,
   "metadata": {},
   "outputs": [],
   "source": [
    "opt = tf.train.GradientDescentOptimizer(learning_rate=1e-2)\n",
    "train_step = opt.minimize(loss, global_step = global_step_tensor)"
   ]
  },
  {
   "cell_type": "code",
   "execution_count": 41,
   "metadata": {
    "collapsed": true
   },
   "outputs": [],
   "source": [
    "def eval_loss():\n",
    "    l = tf.identity(loss).eval(feed_dict={x: MicroArray, y_: MicroArray})\n",
    "    return l"
   ]
  },
  {
   "cell_type": "code",
   "execution_count": 42,
   "metadata": {
    "collapsed": true
   },
   "outputs": [],
   "source": [
    "def eval_mse_loss():\n",
    "    l = tf.identity(mse_error).eval(feed_dict={x: MicroArray, y_: MicroArray})\n",
    "    return l"
   ]
  },
  {
   "cell_type": "code",
   "execution_count": 32,
   "metadata": {},
   "outputs": [
    {
     "name": "stdout",
     "output_type": "stream",
     "text": [
      "INFO:tensorflow:Restoring parameters from ./models/pre_train_para.ckpt\n"
     ]
    }
   ],
   "source": [
    "saver = tf.train.Saver({\"W1\": W1,\"b1\":b1,\n",
    "                        \"W2\": W2,\"b1\":b2,\n",
    "                        \"W3\": W3,\"b1\":b3,\n",
    "                        \"W4\": W4,\"b1\":b4,})\n",
    "saver.restore(sess, \"./models/pre_train_para.ckpt\")"
   ]
  },
  {
   "cell_type": "code",
   "execution_count": 33,
   "metadata": {},
   "outputs": [],
   "source": [
    "tf.variables_initializer([global_step_tensor]).run()"
   ]
  },
  {
   "cell_type": "code",
   "execution_count": 43,
   "metadata": {},
   "outputs": [
    {
     "name": "stdout",
     "output_type": "stream",
     "text": [
      "83.2175\n",
      "34.6487\n"
     ]
    }
   ],
   "source": [
    "print eval_loss()\n",
    "print eval_mse_loss()"
   ]
  },
  {
   "cell_type": "code",
   "execution_count": 45,
   "metadata": {},
   "outputs": [
    {
     "name": "stdout",
     "output_type": "stream",
     "text": [
      "[ 5.60610301  6.81111517  4.87755607 ...,  3.17587017  2.45701003\n",
      "  3.08785588]\n"
     ]
    }
   ],
   "source": [
    "print np.mean(MicroArray,axis=0)"
   ]
  },
  {
   "cell_type": "code",
   "execution_count": 11,
   "metadata": {
    "collapsed": true
   },
   "outputs": [],
   "source": [
    "loss_his = []"
   ]
  },
  {
   "cell_type": "code",
   "execution_count": 39,
   "metadata": {},
   "outputs": [
    {
     "name": "stdout",
     "output_type": "stream",
     "text": [
      "epoch:0    loss:83.222412\n",
      "epoch:1    loss:83.072891\n",
      "epoch:2    loss:83.235909\n",
      "epoch:3    loss:83.054352\n"
     ]
    },
    {
     "ename": "KeyboardInterrupt",
     "evalue": "",
     "output_type": "error",
     "traceback": [
      "\u001b[0;31m---------------------------------------------------------------------------\u001b[0m",
      "\u001b[0;31mKeyboardInterrupt\u001b[0m                         Traceback (most recent call last)",
      "\u001b[0;32m<ipython-input-39-4b4387616927>\u001b[0m in \u001b[0;36m<module>\u001b[0;34m()\u001b[0m\n\u001b[1;32m      4\u001b[0m   \u001b[0mrandom\u001b[0m \u001b[0;34m=\u001b[0m \u001b[0mnp\u001b[0m\u001b[0;34m.\u001b[0m\u001b[0mrandom\u001b[0m\u001b[0;34m.\u001b[0m\u001b[0mchoice\u001b[0m\u001b[0;34m(\u001b[0m\u001b[0;36m1297\u001b[0m\u001b[0;34m,\u001b[0m\u001b[0mbatch_size\u001b[0m\u001b[0;34m,\u001b[0m\u001b[0mreplace\u001b[0m\u001b[0;34m=\u001b[0m\u001b[0mFalse\u001b[0m\u001b[0;34m)\u001b[0m\u001b[0;34m\u001b[0m\u001b[0m\n\u001b[1;32m      5\u001b[0m   \u001b[0mfeed_dict\u001b[0m \u001b[0;34m=\u001b[0m \u001b[0;34m{\u001b[0m\u001b[0mx\u001b[0m\u001b[0;34m:\u001b[0m \u001b[0mMicroArray\u001b[0m\u001b[0;34m[\u001b[0m\u001b[0mrandom\u001b[0m\u001b[0;34m,\u001b[0m\u001b[0;34m:\u001b[0m\u001b[0;34m]\u001b[0m\u001b[0;34m,\u001b[0m \u001b[0my_\u001b[0m\u001b[0;34m:\u001b[0m \u001b[0mMicroArray\u001b[0m\u001b[0;34m[\u001b[0m\u001b[0mrandom\u001b[0m\u001b[0;34m,\u001b[0m\u001b[0;34m:\u001b[0m\u001b[0;34m]\u001b[0m\u001b[0;34m}\u001b[0m\u001b[0;34m\u001b[0m\u001b[0m\n\u001b[0;32m----> 6\u001b[0;31m   \u001b[0m_\u001b[0m\u001b[0;34m,\u001b[0m\u001b[0ma\u001b[0m \u001b[0;34m=\u001b[0m \u001b[0msess\u001b[0m\u001b[0;34m.\u001b[0m\u001b[0mrun\u001b[0m\u001b[0;34m(\u001b[0m\u001b[0;34m[\u001b[0m\u001b[0mtrain_step\u001b[0m\u001b[0;34m,\u001b[0m\u001b[0mloss\u001b[0m\u001b[0;34m]\u001b[0m\u001b[0;34m,\u001b[0m\u001b[0mfeed_dict\u001b[0m\u001b[0;34m=\u001b[0m\u001b[0mfeed_dict\u001b[0m\u001b[0;34m)\u001b[0m\u001b[0;34m\u001b[0m\u001b[0m\n\u001b[0m\u001b[1;32m      7\u001b[0m   \u001b[0mloss_his\u001b[0m\u001b[0;34m.\u001b[0m\u001b[0mappend\u001b[0m\u001b[0;34m(\u001b[0m\u001b[0ma\u001b[0m\u001b[0;34m)\u001b[0m\u001b[0;34m\u001b[0m\u001b[0m\n\u001b[1;32m      8\u001b[0m   \u001b[0;32mif\u001b[0m\u001b[0;34m(\u001b[0m\u001b[0mstep\u001b[0m \u001b[0;34m%\u001b[0m \u001b[0mepoch\u001b[0m \u001b[0;34m==\u001b[0m \u001b[0;36m0\u001b[0m\u001b[0;34m)\u001b[0m\u001b[0;34m:\u001b[0m\u001b[0;34m\u001b[0m\u001b[0m\n",
      "\u001b[0;32m/usr/local/lib/python2.7/dist-packages/tensorflow/python/client/session.pyc\u001b[0m in \u001b[0;36mrun\u001b[0;34m(self, fetches, feed_dict, options, run_metadata)\u001b[0m\n\u001b[1;32m    776\u001b[0m     \u001b[0;32mtry\u001b[0m\u001b[0;34m:\u001b[0m\u001b[0;34m\u001b[0m\u001b[0m\n\u001b[1;32m    777\u001b[0m       result = self._run(None, fetches, feed_dict, options_ptr,\n\u001b[0;32m--> 778\u001b[0;31m                          run_metadata_ptr)\n\u001b[0m\u001b[1;32m    779\u001b[0m       \u001b[0;32mif\u001b[0m \u001b[0mrun_metadata\u001b[0m\u001b[0;34m:\u001b[0m\u001b[0;34m\u001b[0m\u001b[0m\n\u001b[1;32m    780\u001b[0m         \u001b[0mproto_data\u001b[0m \u001b[0;34m=\u001b[0m \u001b[0mtf_session\u001b[0m\u001b[0;34m.\u001b[0m\u001b[0mTF_GetBuffer\u001b[0m\u001b[0;34m(\u001b[0m\u001b[0mrun_metadata_ptr\u001b[0m\u001b[0;34m)\u001b[0m\u001b[0;34m\u001b[0m\u001b[0m\n",
      "\u001b[0;32m/usr/local/lib/python2.7/dist-packages/tensorflow/python/client/session.pyc\u001b[0m in \u001b[0;36m_run\u001b[0;34m(self, handle, fetches, feed_dict, options, run_metadata)\u001b[0m\n\u001b[1;32m    980\u001b[0m     \u001b[0;32mif\u001b[0m \u001b[0mfinal_fetches\u001b[0m \u001b[0;32mor\u001b[0m \u001b[0mfinal_targets\u001b[0m\u001b[0;34m:\u001b[0m\u001b[0;34m\u001b[0m\u001b[0m\n\u001b[1;32m    981\u001b[0m       results = self._do_run(handle, final_targets, final_fetches,\n\u001b[0;32m--> 982\u001b[0;31m                              feed_dict_string, options, run_metadata)\n\u001b[0m\u001b[1;32m    983\u001b[0m     \u001b[0;32melse\u001b[0m\u001b[0;34m:\u001b[0m\u001b[0;34m\u001b[0m\u001b[0m\n\u001b[1;32m    984\u001b[0m       \u001b[0mresults\u001b[0m \u001b[0;34m=\u001b[0m \u001b[0;34m[\u001b[0m\u001b[0;34m]\u001b[0m\u001b[0;34m\u001b[0m\u001b[0m\n",
      "\u001b[0;32m/usr/local/lib/python2.7/dist-packages/tensorflow/python/client/session.pyc\u001b[0m in \u001b[0;36m_do_run\u001b[0;34m(self, handle, target_list, fetch_list, feed_dict, options, run_metadata)\u001b[0m\n\u001b[1;32m   1030\u001b[0m     \u001b[0;32mif\u001b[0m \u001b[0mhandle\u001b[0m \u001b[0;32mis\u001b[0m \u001b[0mNone\u001b[0m\u001b[0;34m:\u001b[0m\u001b[0;34m\u001b[0m\u001b[0m\n\u001b[1;32m   1031\u001b[0m       return self._do_call(_run_fn, self._session, feed_dict, fetch_list,\n\u001b[0;32m-> 1032\u001b[0;31m                            target_list, options, run_metadata)\n\u001b[0m\u001b[1;32m   1033\u001b[0m     \u001b[0;32melse\u001b[0m\u001b[0;34m:\u001b[0m\u001b[0;34m\u001b[0m\u001b[0m\n\u001b[1;32m   1034\u001b[0m       return self._do_call(_prun_fn, self._session, handle, feed_dict,\n",
      "\u001b[0;32m/usr/local/lib/python2.7/dist-packages/tensorflow/python/client/session.pyc\u001b[0m in \u001b[0;36m_do_call\u001b[0;34m(self, fn, *args)\u001b[0m\n\u001b[1;32m   1037\u001b[0m   \u001b[0;32mdef\u001b[0m \u001b[0m_do_call\u001b[0m\u001b[0;34m(\u001b[0m\u001b[0mself\u001b[0m\u001b[0;34m,\u001b[0m \u001b[0mfn\u001b[0m\u001b[0;34m,\u001b[0m \u001b[0;34m*\u001b[0m\u001b[0margs\u001b[0m\u001b[0;34m)\u001b[0m\u001b[0;34m:\u001b[0m\u001b[0;34m\u001b[0m\u001b[0m\n\u001b[1;32m   1038\u001b[0m     \u001b[0;32mtry\u001b[0m\u001b[0;34m:\u001b[0m\u001b[0;34m\u001b[0m\u001b[0m\n\u001b[0;32m-> 1039\u001b[0;31m       \u001b[0;32mreturn\u001b[0m \u001b[0mfn\u001b[0m\u001b[0;34m(\u001b[0m\u001b[0;34m*\u001b[0m\u001b[0margs\u001b[0m\u001b[0;34m)\u001b[0m\u001b[0;34m\u001b[0m\u001b[0m\n\u001b[0m\u001b[1;32m   1040\u001b[0m     \u001b[0;32mexcept\u001b[0m \u001b[0merrors\u001b[0m\u001b[0;34m.\u001b[0m\u001b[0mOpError\u001b[0m \u001b[0;32mas\u001b[0m \u001b[0me\u001b[0m\u001b[0;34m:\u001b[0m\u001b[0;34m\u001b[0m\u001b[0m\n\u001b[1;32m   1041\u001b[0m       \u001b[0mmessage\u001b[0m \u001b[0;34m=\u001b[0m \u001b[0mcompat\u001b[0m\u001b[0;34m.\u001b[0m\u001b[0mas_text\u001b[0m\u001b[0;34m(\u001b[0m\u001b[0me\u001b[0m\u001b[0;34m.\u001b[0m\u001b[0mmessage\u001b[0m\u001b[0;34m)\u001b[0m\u001b[0;34m\u001b[0m\u001b[0m\n",
      "\u001b[0;32m/usr/local/lib/python2.7/dist-packages/tensorflow/python/client/session.pyc\u001b[0m in \u001b[0;36m_run_fn\u001b[0;34m(session, feed_dict, fetch_list, target_list, options, run_metadata)\u001b[0m\n\u001b[1;32m   1019\u001b[0m         return tf_session.TF_Run(session, options,\n\u001b[1;32m   1020\u001b[0m                                  \u001b[0mfeed_dict\u001b[0m\u001b[0;34m,\u001b[0m \u001b[0mfetch_list\u001b[0m\u001b[0;34m,\u001b[0m \u001b[0mtarget_list\u001b[0m\u001b[0;34m,\u001b[0m\u001b[0;34m\u001b[0m\u001b[0m\n\u001b[0;32m-> 1021\u001b[0;31m                                  status, run_metadata)\n\u001b[0m\u001b[1;32m   1022\u001b[0m \u001b[0;34m\u001b[0m\u001b[0m\n\u001b[1;32m   1023\u001b[0m     \u001b[0;32mdef\u001b[0m \u001b[0m_prun_fn\u001b[0m\u001b[0;34m(\u001b[0m\u001b[0msession\u001b[0m\u001b[0;34m,\u001b[0m \u001b[0mhandle\u001b[0m\u001b[0;34m,\u001b[0m \u001b[0mfeed_dict\u001b[0m\u001b[0;34m,\u001b[0m \u001b[0mfetch_list\u001b[0m\u001b[0;34m)\u001b[0m\u001b[0;34m:\u001b[0m\u001b[0;34m\u001b[0m\u001b[0m\n",
      "\u001b[0;31mKeyboardInterrupt\u001b[0m: "
     ]
    }
   ],
   "source": [
    "batch_size = 100\n",
    "epoch = int(MicroArray.shape[0] / batch_size)\n",
    "for step in range(10 * epoch):\n",
    "  random = np.random.choice(1297,batch_size,replace=False)\n",
    "  feed_dict = {x: MicroArray[random,:], y_: MicroArray[random,:]}\n",
    "  _,a = sess.run([train_step,loss],feed_dict=feed_dict)\n",
    "  loss_his.append(a)\n",
    "  if(step % epoch == 0):\n",
    "    print \"epoch:%d    loss:%f\" % (step/epoch,a)\n",
    "#   if(step%1000 == 0):\n",
    "#     print str(step) + \" completed\"\n",
    "#     save_model()"
   ]
  },
  {
   "cell_type": "code",
   "execution_count": 14,
   "metadata": {},
   "outputs": [
    {
     "name": "stdout",
     "output_type": "stream",
     "text": [
      "[1232568.4]\n"
     ]
    }
   ],
   "source": [
    "print loss_his"
   ]
  },
  {
   "cell_type": "code",
   "execution_count": 35,
   "metadata": {},
   "outputs": [
    {
     "name": "stdout",
     "output_type": "stream",
     "text": [
      "83.2343\n"
     ]
    },
    {
     "data": {
      "image/png": "[encoded data removed]",
      "text/plain": [
       "<matplotlib.figure.Figure at 0x7ff721ef1f10>"
      ]
     },
     "metadata": {},
     "output_type": "display_data"
    }
   ],
   "source": [
    "loss_his_cut = np.asarray(loss_his)\n",
    "plt.plot(loss_his_cut)\n",
    "print loss_his_cut[len(loss_his_cut)-1]\n",
    "plt.show()"
   ]
  },
  {
   "cell_type": "code",
   "execution_count": 17,
   "metadata": {},
   "outputs": [
    {
     "data": {
      "text/plain": [
       "[<tf.Variable 'global_step:0' shape=() dtype=int32_ref>,\n",
       " <tf.Variable 'W1:0' shape=(22283, 2000) dtype=float32_ref>,\n",
       " <tf.Variable 'b1:0' shape=(2000,) dtype=float32_ref>,\n",
       " <tf.Variable 'W2:0' shape=(2000, 200) dtype=float32_ref>,\n",
       " <tf.Variable 'b2:0' shape=(200,) dtype=float32_ref>,\n",
       " <tf.Variable 'W3:0' shape=(200, 100) dtype=float32_ref>,\n",
       " <tf.Variable 'b3:0' shape=(100,) dtype=float32_ref>,\n",
       " <tf.Variable 'W4:0' shape=(100, 22283) dtype=float32_ref>,\n",
       " <tf.Variable 'b4:0' shape=(22283,) dtype=float32_ref>]"
      ]
     },
     "execution_count": 17,
     "metadata": {},
     "output_type": "execute_result"
    }
   ],
   "source": [
    "tf.global_variables()"
   ]
  },
  {
   "cell_type": "code",
   "execution_count": 21,
   "metadata": {},
   "outputs": [
    {
     "data": {
      "text/plain": [
       "'./models/pre_train_para.ckpt'"
      ]
     },
     "execution_count": 21,
     "metadata": {},
     "output_type": "execute_result"
    }
   ],
   "source": [
    "saver = tf.train.Saver({\"W1\": W1,\"b1\":b1,\n",
    "                        \"W2\": W2,\"b1\":b2,\n",
    "                        \"W3\": W3,\"b1\":b3,\n",
    "                        \"W4\": W4,\"b1\":b4,})\n",
    "saver.save(sess, \"./models/pre_train_para.ckpt\")"
   ]
  },
  {
   "cell_type": "code",
   "execution_count": 36,
   "metadata": {
    "collapsed": true
   },
   "outputs": [],
   "source": [
    "approx = tf.identity(y4).eval(feed_dict={x: MicroArray})"
   ]
  },
  {
   "cell_type": "code",
   "execution_count": 37,
   "metadata": {
    "collapsed": true
   },
   "outputs": [],
   "source": [
    "def rel_error(x, y):\n",
    "    return np.max(np.abs(x - y) / (np.maximum(1e-8, np.abs(x) + np.abs(y))))"
   ]
  },
  {
   "cell_type": "code",
   "execution_count": 38,
   "metadata": {},
   "outputs": [
    {
     "name": "stdout",
     "output_type": "stream",
     "text": [
      "1.0\n"
     ]
    }
   ],
   "source": [
    "print rel_error(approx,MicroArray)"
   ]
  },
  {
   "cell_type": "code",
   "execution_count": null,
   "metadata": {
    "collapsed": true
   },
   "outputs": [],
   "source": [
    "np.mean()"
   ]
  }
 ],
 "metadata": {
  "kernelspec": {
   "display_name": "Python 2",
   "language": "python",
   "name": "python2"
  },
  "language_info": {
   "codemirror_mode": {
    "name": "ipython",
    "version": 2
   },
   "file_extension": ".py",
   "mimetype": "text/x-python",
   "name": "python",
   "nbconvert_exporter": "python",
   "pygments_lexer": "ipython2",
   "version": "2.7.12"
  }
 },
 "nbformat": 4,
 "nbformat_minor": 2
}
