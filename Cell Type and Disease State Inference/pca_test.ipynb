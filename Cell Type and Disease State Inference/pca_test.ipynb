{
 "cells": [
  {
   "cell_type": "code",
   "execution_count": 1,
   "metadata": {},
   "outputs": [
    {
     "name": "stdout",
     "output_type": "stream",
     "text": [
      "[[-0.31367971 -0.94952885]\n",
      " [-0.94952885  0.31367971]]\n"
     ]
    },
    {
     "data": {
      "image/png": "[encoded data removed]",
      "text/plain": [
       "<matplotlib.figure.Figure at 0x7fe5dc48dc50>"
      ]
     },
     "metadata": {},
     "output_type": "display_data"
    }
   ],
   "source": [
    "import numpy as np\n",
    "import matplotlib.pyplot as plt\n",
    "\n",
    "N = 1000\n",
    "xTrue = np.linspace(0, 1000, N)\n",
    "yTrue = 3 * xTrue\n",
    "xData = xTrue + np.random.normal(0, 100, N)\n",
    "yData = yTrue + np.random.normal(0, 100, N)\n",
    "xData = np.reshape(xData, (N, 1))\n",
    "yData = np.reshape(yData, (N, 1))\n",
    "data = np.hstack((xData, yData))\n",
    "\n",
    "mu = data.mean(axis=0)\n",
    "data = data - mu\n",
    "# data = (data - mu)/data.std(axis=0)  # Uncommenting this reproduces mlab.PCA results\n",
    "eigenvectors, eigenvalues, V = np.linalg.svd(data.T, full_matrices=False)\n",
    "projected_data = np.dot(data, eigenvectors)\n",
    "sigma = projected_data.std(axis=0).mean()\n",
    "print(eigenvectors)\n",
    "\n",
    "fig, ax = plt.subplots()\n",
    "ax.scatter(xData, yData)\n",
    "for axis in eigenvectors:\n",
    "    start, end = mu, mu + sigma * axis\n",
    "    ax.annotate(\n",
    "        '', xy=end, xycoords='data',\n",
    "        xytext=start, textcoords='data',\n",
    "        arrowprops=dict(facecolor='red', width=2.0))\n",
    "ax.set_aspect('equal')\n",
    "plt.show()"
   ]
  },
  {
   "cell_type": "code",
   "execution_count": 2,
   "metadata": {},
   "outputs": [
    {
     "name": "stdout",
     "output_type": "stream",
     "text": [
      "(1000, 2)\n"
     ]
    }
   ],
   "source": [
    "print data.shape"
   ]
  },
  {
   "cell_type": "code",
   "execution_count": 50,
   "metadata": {
    "collapsed": true
   },
   "outputs": [],
   "source": [
    "cov1 = data.T.dot(data)"
   ]
  },
  {
   "cell_type": "code",
   "execution_count": 29,
   "metadata": {},
   "outputs": [],
   "source": [
    "cov2 = np.cov(data.T)"
   ]
  },
  {
   "cell_type": "code",
   "execution_count": 30,
   "metadata": {},
   "outputs": [
    {
     "name": "stdout",
     "output_type": "stream",
     "text": [
      "(2, 2) (2, 2)\n"
     ]
    }
   ],
   "source": [
    "print cov2.shape,cov1.shape"
   ]
  },
  {
   "cell_type": "code",
   "execution_count": 32,
   "metadata": {},
   "outputs": [
    {
     "name": "stdout",
     "output_type": "stream",
     "text": [
      "-1.7462298274e-10\n"
     ]
    }
   ],
   "source": [
    "print np.sum(cov1-cov2)"
   ]
  },
  {
   "cell_type": "code",
   "execution_count": 49,
   "metadata": {},
   "outputs": [
    {
     "name": "stdout",
     "output_type": "stream",
     "text": [
      "[ 29034.9054837    3217.62837724]\n"
     ]
    }
   ],
   "source": [
    "print eigenvalues"
   ]
  },
  {
   "cell_type": "code",
   "execution_count": 51,
   "metadata": {},
   "outputs": [],
   "source": [
    "e1,e2 = np.linalg.eig(cov1)"
   ]
  },
  {
   "cell_type": "code",
   "execution_count": 53,
   "metadata": {},
   "outputs": [
    {
     "name": "stdout",
     "output_type": "stream",
     "text": [
      "[  3217.62837724  29034.9054837 ]\n"
     ]
    }
   ],
   "source": [
    "print np.sqrt(e1)"
   ]
  }
 ],
 "metadata": {
  "kernelspec": {
   "display_name": "Python 2",
   "language": "python",
   "name": "python2"
  },
  "language_info": {
   "codemirror_mode": {
    "name": "ipython",
    "version": 2
   },
   "file_extension": ".py",
   "mimetype": "text/x-python",
   "name": "python",
   "nbconvert_exporter": "python",
   "pygments_lexer": "ipython2",
   "version": "2.7.12"
  }
 },
 "nbformat": 4,
 "nbformat_minor": 2
}
